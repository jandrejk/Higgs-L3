{
 "cells": [
  {
   "cell_type": "markdown",
   "metadata": {},
   "source": [
    "# What happens in this notebook :-)\n",
    "\n",
    "* We read in MC samples for background and different signal models. We also read in the actual data from the L3 detector.\n",
    "\n",
    "* We train a linear model called Logistic Regression.\n",
    "\n",
    "* The coefficients found by the algorithm are plotted and used in Higgs@L3-2D.ipynb.\n"
   ]
  },
  {
   "cell_type": "markdown",
   "metadata": {},
   "source": [
    "### import packages"
   ]
  },
  {
   "cell_type": "code",
   "execution_count": 2,
   "metadata": {
    "collapsed": false
   },
   "outputs": [],
   "source": [
    "from sklearn.model_selection import train_test_split\n",
    "from sklearn.datasets import load_breast_cancer\n",
    "from sklearn.linear_model import LogisticRegression\n",
    "\n",
    "from sklearn.svm import LinearSVC\n",
    "from sklearn.tree import DecisionTreeClassifier\n",
    "\n",
    "import numpy as np\n",
    "import matplotlib.pyplot as plt\n",
    "import pandas as pd\n",
    "import os\n",
    "\n",
    "import plotting as pl\n",
    "\n",
    "import cPickle"
   ]
  },
  {
   "cell_type": "markdown",
   "metadata": {},
   "source": [
    "### Read in the data"
   ]
  },
  {
   "cell_type": "code",
   "execution_count": 3,
   "metadata": {
    "collapsed": false
   },
   "outputs": [],
   "source": [
    "data = pd.read_csv('data/higgs_data.csv')\n",
    "\n",
    "higgs_85 = pd.read_csv('data/higgs_higgs_85.csv')\n",
    "higgs_90 = pd.read_csv('data/higgs_higgs_90.csv')\n",
    "higgs_95 = pd.read_csv('data/higgs_higgs_95.csv')\n",
    "eeqq = pd.read_csv('data/higgs_eeqq.csv')\n",
    "qq = pd.read_csv('data/higgs_qq.csv')\n",
    "wen = pd.read_csv('data/higgs_wen.csv')\n",
    "ww = pd.read_csv('data/higgs_ww.csv')\n",
    "zee = pd.read_csv('data/higgs_zee.csv')\n",
    "zz = pd.read_csv('data/higgs_zz.csv')\n",
    "\n",
    "\n",
    "framesMC_NoHiggs = [qq, ww, zz, zee, wen, eeqq]\n",
    "framesMC_NoHiggsNames = ['qq', 'ww', 'zz', 'zee', 'wen', 'eeqq']\n",
    "\n",
    "framesMC_HiggsModels = [higgs_85, higgs_90, higgs_95]\n",
    "framesMC_HiggsModelsNames = ['higgs_85', 'higgs_90', 'higgs_95']"
   ]
  },
  {
   "cell_type": "markdown",
   "metadata": {},
   "source": [
    "<img src=\"samples_full.png\"> "
   ]
  },
  {
   "cell_type": "markdown",
   "metadata": {},
   "source": [
    "### Load the BDT from sig-bkg classification"
   ]
  },
  {
   "cell_type": "code",
   "execution_count": 4,
   "metadata": {
    "collapsed": false
   },
   "outputs": [
    {
     "data": {
      "text/plain": [
       "<bound method GradientBoostingClassifier.get_params of GradientBoostingClassifier(criterion='friedman_mse', init=None,\n",
       "              learning_rate=0.01, loss='deviance', max_depth=3,\n",
       "              max_features=None, max_leaf_nodes=None,\n",
       "              min_impurity_split=1e-07, min_samples_leaf=1,\n",
       "              min_samples_split=2, min_weight_fraction_leaf=0.0,\n",
       "              n_estimators=300, presort='auto', random_state=0,\n",
       "              subsample=1.0, verbose=0, warm_start=False)>"
      ]
     },
     "execution_count": 4,
     "metadata": {},
     "output_type": "execute_result"
    }
   ],
   "source": [
    "with open('BDT_85higgs1.pkl', 'rb') as fid:\n",
    "    gnb_loaded = cPickle.load(fid)\n",
    "gnb_loaded.get_params"
   ]
  },
  {
   "cell_type": "code",
   "execution_count": 5,
   "metadata": {
    "collapsed": true
   },
   "outputs": [],
   "source": [
    "def PickDiscVar_mH85 (df) :\n",
    "    discriminating_vars = [u'btag1', u'btag2',\n",
    "       u'ucsdbt0', u'mvis', u'mvissc', u'fmvis', u'fmmis', u'fth1',\n",
    "       u'mmis', u'acthm', u'maxcthj', u'acop', u'maxxov', u'enj1',\n",
    "       u'thj1', u'phj1', u'xmj1', u'enj2', u'thj2', u'phj2', u'xmj2',\n",
    "       u'pho_num', u'pho_ene', u'pho_the', u'pho_phi', u'ele_num', u'ele_ene',\n",
    "       u'ele_the', u'ele_phi', u'muon_num', u'muon_ene', u'muon_the',\n",
    "       u'muon_phi']\n",
    "    return df[discriminating_vars]"
   ]
  },
  {
   "cell_type": "markdown",
   "metadata": {},
   "source": [
    "### Introduce weights in order to rescale all the MC samples to the same luminosity\n",
    "\n",
    "per definition the weight of each measured event (data) is $1$. Thus, we want to rescale the MC to the same ntegrated Luminosity of the data taking which is $L = 176.773 \\ \\mathrm{pb}^{-1}$\n",
    "\n",
    "The weight for each MC sample is:\n",
    "$$ \n",
    "        \\mathrm{weight}_\\mathrm{MC} = L \\cdot  \\frac{\\sigma_\\mathrm{MC} }{N_\\mathrm{MC}}\n",
    "$$"
   ]
  },
  {
   "cell_type": "code",
   "execution_count": 6,
   "metadata": {
    "collapsed": false
   },
   "outputs": [],
   "source": [
    "crossSectionsMC_noHiggs = [102., 16.5, 0.975, 3.35, 2.9, 15600.]\n",
    "NumberMC_noHiggs = [200000., 294500., 196000., 29500., 81786., 5940000.]\n",
    "\n",
    "crossSectionsMC_HiggsModels = [0.094, 0.0667, 0.0333]\n",
    "NumberMC_HiggsModels = [3972., 3973., 3971.]\n",
    "\n",
    "\n",
    "Lum = 176.773\n",
    "\n",
    "\n",
    "weightsMC_noHiggs     = Lum*np.array(crossSectionsMC_noHiggs) / np.array(NumberMC_noHiggs) \n",
    "weightsMC_HiggsModels = Lum*np.array(crossSectionsMC_HiggsModels) / np.array(NumberMC_HiggsModels) \n",
    "\n",
    "\n",
    "#add column 'weight' to data frame of all bkg MC\n",
    "#add column 'BDT_selCut' to data frame of all bkg MC\n",
    "for i, frame in enumerate(framesMC_NoHiggs):\n",
    "    frame[\"weight\"] = weightsMC_noHiggs[i]\n",
    "    frame['BDT_selCut'] = gnb_loaded.decision_function(PickDiscVar_mH85(df=frame))\n",
    "    frame['class'] = 0\n",
    "#add column 'weight' to data frame of all bkg+sig MC\n",
    "#add column 'BDT_selCut' to data frame of all bkg+sig MC\n",
    "for i, frame in enumerate(framesMC_HiggsModels):\n",
    "    frame[\"weight\"] = weightsMC_HiggsModels[i]\n",
    "    frame['BDT_selCut'] = gnb_loaded.decision_function(PickDiscVar_mH85(df=frame))\n",
    "    frame['class'] = 1\n",
    "#add column 'weight'=1 to data \n",
    "#add column 'BDT_selCut' to data \n",
    "data[\"weight\"] = 1\n",
    "data['BDT_selCut'] = gnb_loaded.decision_function(PickDiscVar_mH85(df=data))\n"
   ]
  },
  {
   "cell_type": "code",
   "execution_count": 7,
   "metadata": {
    "collapsed": false
   },
   "outputs": [
    {
     "name": "stdout",
     "output_type": "stream",
     "text": [
      "('There are ', 641, 'data events recorded')\n",
      "('There are ', 32, 'candidates selected after the cut')\n"
     ]
    }
   ],
   "source": [
    "print ('There are ', len(data['weight']), 'data events recorded')\n",
    "\n",
    "cut = -3.15# -3.4#1.41379310345\n",
    "print ('There are ', len(data[data['BDT_selCut']>cut]['weight']), 'candidates selected after the cut')"
   ]
  },
  {
   "cell_type": "markdown",
   "metadata": {},
   "source": [
    "### merge the sets to data frames"
   ]
  },
  {
   "cell_type": "code",
   "execution_count": 8,
   "metadata": {
    "collapsed": true
   },
   "outputs": [],
   "source": [
    "def KillNonKinVars (df) :\n",
    "    discriminating_vars = [u'btag1', u'btag2',\n",
    "       u'ucsdbt0', u'mvis', u'mvissc', u'fmvis', u'fmmis', u'fth1',\n",
    "       u'mmis', u'acthm', u'maxcthj', u'acop', u'maxxov', u'enj1',\n",
    "       u'thj1', u'phj1', u'xmj1', u'enj2', u'thj2', u'phj2', u'xmj2',\n",
    "       u'pho_num', u'pho_ene', u'pho_the', u'pho_phi', u'ele_num', u'ele_ene',\n",
    "       u'ele_the', u'ele_phi', u'muon_num', u'muon_ene', u'muon_the',\n",
    "       u'muon_phi']+['class','weight','BDT_selCut']\n",
    "    return df[discriminating_vars]"
   ]
  },
  {
   "cell_type": "code",
   "execution_count": 9,
   "metadata": {
    "collapsed": false
   },
   "outputs": [],
   "source": [
    "df_MC_noHiggs = KillNonKinVars(pd.concat(framesMC_NoHiggs))\n",
    "df_MC_mH85 = KillNonKinVars(framesMC_HiggsModels[0])\n",
    "df_mH85 = pd.concat([df_MC_noHiggs,df_MC_mH85])"
   ]
  },
  {
   "cell_type": "code",
   "execution_count": 10,
   "metadata": {
    "collapsed": false
   },
   "outputs": [
    {
     "data": {
      "text/plain": [
       "Index([u'btag1', u'btag2', u'ucsdbt0', u'mvis', u'mvissc', u'fmvis', u'fmmis',\n",
       "       u'fth1', u'mmis', u'acthm', u'maxcthj', u'acop', u'maxxov', u'enj1',\n",
       "       u'thj1', u'phj1', u'xmj1', u'enj2', u'thj2', u'phj2', u'xmj2',\n",
       "       u'pho_num', u'pho_ene', u'pho_the', u'pho_phi', u'ele_num', u'ele_ene',\n",
       "       u'ele_the', u'ele_phi', u'muon_num', u'muon_ene', u'muon_the',\n",
       "       u'muon_phi', u'class', u'weight', u'BDT_selCut'],\n",
       "      dtype='object')"
      ]
     },
     "execution_count": 10,
     "metadata": {},
     "output_type": "execute_result"
    }
   ],
   "source": [
    "df_mH85.columns"
   ]
  },
  {
   "cell_type": "code",
   "execution_count": 11,
   "metadata": {
    "collapsed": true
   },
   "outputs": [],
   "source": [
    "# cut away events bellow the BDT cut-threshold"
   ]
  },
  {
   "cell_type": "code",
   "execution_count": 12,
   "metadata": {
    "collapsed": true
   },
   "outputs": [],
   "source": [
    "df_mH = df_mH85[df_mH85['BDT_selCut']>cut]\n",
    "del df_mH['BDT_selCut']"
   ]
  },
  {
   "cell_type": "markdown",
   "metadata": {},
   "source": [
    "# Delete mmis because this is already the one golden disc variable"
   ]
  },
  {
   "cell_type": "code",
   "execution_count": 13,
   "metadata": {
    "collapsed": false
   },
   "outputs": [],
   "source": [
    "del df_mH['mmis']"
   ]
  },
  {
   "cell_type": "code",
   "execution_count": 14,
   "metadata": {
    "collapsed": false
   },
   "outputs": [],
   "source": [
    "# extract target values\n",
    "target = df_mH['class']\n",
    "del df_mH['class']"
   ]
  },
  {
   "cell_type": "code",
   "execution_count": 15,
   "metadata": {
    "collapsed": false
   },
   "outputs": [
    {
     "name": "stdout",
     "output_type": "stream",
     "text": [
      "('No of train events', 7007)\n",
      "('No of signal events', 1575)\n",
      "('fraction of bkg in training set', 0.7752247752247752)\n",
      "-----------------------------\n",
      "('No of test events', 3773)\n",
      "('No of signal events', 848)\n",
      "('fraction of bkg in test set', 0.775245163000265)\n"
     ]
    }
   ],
   "source": [
    "X_train, X_test, y_train, y_test = train_test_split(df_mH, target, \n",
    "                                                    stratify=target, \n",
    "                                                    random_state=42,\n",
    "                                                   train_size=0.65)\n",
    "X_train_w = X_train['weight']\n",
    "X_test_w = X_test['weight']\n",
    "\n",
    "\n",
    "print('No of train events', len(y_train))\n",
    "print('No of signal events',np.count_nonzero(y_train))\n",
    "print('fraction of bkg in training set',1 - 1.*np.count_nonzero(y_train) / len(y_train))\n",
    "\n",
    "print('-----------------------------')\n",
    "\n",
    "print('No of test events',len(y_test))\n",
    "print('No of signal events',np.count_nonzero(y_test))\n",
    "print('fraction of bkg in test set',1 - 1.*np.count_nonzero(y_test) / len(y_test))\n",
    "\n",
    "\n",
    "del X_train['weight']\n",
    "del X_test['weight']\n"
   ]
  },
  {
   "cell_type": "code",
   "execution_count": 16,
   "metadata": {
    "collapsed": false
   },
   "outputs": [],
   "source": [
    "logreg = LogisticRegression(C=100).fit(X_train, y_train,sample_weight=X_train_w)"
   ]
  },
  {
   "cell_type": "code",
   "execution_count": 17,
   "metadata": {
    "collapsed": false
   },
   "outputs": [
    {
     "name": "stdout",
     "output_type": "stream",
     "text": [
      "Training set score: 0.700\n",
      "Test set score: 0.698\n"
     ]
    }
   ],
   "source": [
    "print(\"Training set score: {:.3f}\".format(logreg.score(X_train, y_train)))\n",
    "print(\"Test set score: {:.3f}\".format(logreg.score(X_test, y_test)))"
   ]
  },
  {
   "cell_type": "code",
   "execution_count": 18,
   "metadata": {
    "collapsed": false
   },
   "outputs": [
    {
     "data": {
      "image/png": "[encoded data removed]",
      "text/plain": [
       "<matplotlib.figure.Figure at 0x7f4c01dcd8d0>"
      ]
     },
     "metadata": {},
     "output_type": "display_data"
    }
   ],
   "source": [
    "#plt.figure(figsize=(3,3))\n",
    "plt.plot(logreg.coef_.T,'r^')\n",
    "plt.title('Logistic Regression ($m_\\mathrm{H}$ = 85 GeV)')\n",
    "plt.ylabel(r'coefficient $\\alpha_i$',fontsize=14)\n",
    "plt.xlabel(r'feature $f_i$',fontsize=14)\n",
    "#plt.plot(tree.coef_.T,'bo',label='tree')\n",
    "\n",
    "plt.xticks(range(df_mH.shape[1]),X_train.columns,rotation=90)\n",
    "#plt.savefig(\"./plots/LogRegCoef\")\n",
    "plt.show()"
   ]
  },
  {
   "cell_type": "code",
   "execution_count": 20,
   "metadata": {
    "collapsed": false,
    "scrolled": true
   },
   "outputs": [
    {
     "name": "stdout",
     "output_type": "stream",
     "text": [
      "[array([ 2.46210344,  2.33688917, -0.01423349,  0.12191173, -0.10424626,\n",
      "        0.08510777,  0.0587766 , -0.17929703, -0.15416924, -1.24635626,\n",
      "       -1.0597587 ,  0.96756814, -0.11463975,  0.07942893,  0.01374791,\n",
      "       -0.06328015, -0.16562302, -0.07303182,  0.00276429, -0.04885178,\n",
      "        0.20974052, -0.06296262, -0.06392501,  0.03343504,  0.0982003 ,\n",
      "       -0.03228823, -0.18622346,  0.08165305,  0.09068129, -0.007518  ,\n",
      "       -0.07644084,  0.02656379])]\n"
     ]
    }
   ],
   "source": [
    "coeflist = []\n",
    "for l in logreg.coef_ :\n",
    "    coeflist.append(l)\n",
    "print coeflist"
   ]
  },
  {
   "cell_type": "code",
   "execution_count": 21,
   "metadata": {
    "collapsed": false
   },
   "outputs": [
    {
     "data": {
      "text/plain": [
       "Index([u'btag1', u'btag2', u'ucsdbt0', u'mvis', u'mvissc', u'fmvis', u'fmmis',\n",
       "       u'fth1', u'acthm', u'maxcthj', u'acop', u'maxxov', u'enj1', u'thj1',\n",
       "       u'phj1', u'xmj1', u'enj2', u'thj2', u'phj2', u'xmj2', u'pho_num',\n",
       "       u'pho_ene', u'pho_the', u'pho_phi', u'ele_num', u'ele_ene', u'ele_the',\n",
       "       u'ele_phi', u'muon_num', u'muon_ene', u'muon_the', u'muon_phi'],\n",
       "      dtype='object')"
      ]
     },
     "execution_count": 21,
     "metadata": {},
     "output_type": "execute_result"
    }
   ],
   "source": [
    "X_train.columns"
   ]
  },
  {
   "cell_type": "code",
   "execution_count": 22,
   "metadata": {
    "collapsed": true
   },
   "outputs": [],
   "source": [
    "coef_85 = np.array([ 0.313,  0.195,  0.284, -0.002, -0.031,  0.069, -0.019, -0.053,\n",
    "       -0.173, -0.232, -0.295,  0.011,  0.004, -0.019,  0.009, -0.052,\n",
    "       -0.033, -0.055, -0.003, -0.036,  0.106, -0.059, -0.006,  0.034,\n",
    "        0.011, -0.027, -0.032,  0.057,  0.001, -0.003, -0.011,  0.024])\n",
    "\n",
    "coef_90 = np.array([ 0.127,  0.184,  0.217, -0.043, -0.029, -0.016,  0.044, -0.046,\n",
    "       -0.084, -0.149, -0.297,  0.002,  0.044,  0.051,  0.011, -0.049,\n",
    "        0.039,  0.029,  0.012, -0.03 ,  0.072, -0.036,  0.03 , -0.001,\n",
    "        0.053, -0.03 , -0.026,  0.028, -0.018, -0.004, -0.032, -0.046])\n",
    "\n",
    "coef_95 = np.array([ 0.106,  0.048,  0.134, -0.091, -0.146,  0.059,  0.116,  0.008,\n",
    "       -0.073, -0.094, -0.192, -0.001,  0.059,  0.021,  0.062, -0.023,\n",
    "        0.039,  0.059,  0.018, -0.012,  0.035, -0.043,  0.069,  0.016,\n",
    "       -0.002, -0.022,  0.001,  0.057,  0.006,  0.005,  0.013,  0.027])"
   ]
  },
  {
   "cell_type": "code",
   "execution_count": 23,
   "metadata": {
    "collapsed": true
   },
   "outputs": [],
   "source": [
    "coef_90_2 = np.array([ 0.158,  0.244,  0.335, -0.027, -0.078, -0.033,  0.115, -0.09 ,\n",
    "       -0.047, -0.152, -0.198, -0.002, -0.   , -0.017, -0.01 , -0.023,\n",
    "        0.035, -0.069, -0.048, -0.042,  0.11 , -0.004,  0.012,  0.022,\n",
    "        0.009, -0.032, -0.026, -0.002, -0.024, -0.   , -0.02 , -0.14 ])"
   ]
  }
 ],
 "metadata": {
  "kernelspec": {
   "display_name": "Python 2",
   "language": "python",
   "name": "python2"
  },
  "language_info": {
   "codemirror_mode": {
    "name": "ipython",
    "version": 2
   },
   "file_extension": ".py",
   "mimetype": "text/x-python",
   "name": "python",
   "nbconvert_exporter": "python",
   "pygments_lexer": "ipython2",
   "version": "2.7.13"
  }
 },
 "nbformat": 4,
 "nbformat_minor": 2
}
