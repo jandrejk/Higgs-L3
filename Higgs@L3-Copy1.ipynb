{
 "cells": [
  {
   "cell_type": "code",
   "execution_count": 1,
   "metadata": {
    "collapsed": true
   },
   "outputs": [],
   "source": [
    "import numpy as np\n",
    "import matplotlib.pyplot as plt\n",
    "import pandas as pd\n",
    "import os\n",
    "\n",
    "import plotting as pl"
   ]
  },
  {
   "cell_type": "markdown",
   "metadata": {},
   "source": [
    "### Read in the data"
   ]
  },
  {
   "cell_type": "code",
   "execution_count": 2,
   "metadata": {
    "collapsed": false
   },
   "outputs": [
    {
     "data": {
      "text/plain": [
       "\"\\n# mvisf values are to high for histograms- lower by 10e15\\nfor frame in framesListMc:\\n    frame['mvisf']/= 10e15\\ndata['mvisf']/= 10e15\\n\""
      ]
     },
     "execution_count": 2,
     "metadata": {},
     "output_type": "execute_result"
    }
   ],
   "source": [
    "data = pd.read_csv('data/higgs_data.csv')\n",
    "\n",
    "higgs_85 = pd.read_csv('data/higgs_higgs_85.csv')\n",
    "higgs_90 = pd.read_csv('data/higgs_higgs_90.csv')\n",
    "higgs_95 = pd.read_csv('data/higgs_higgs_95.csv')\n",
    "eeqq = pd.read_csv('data/higgs_eeqq.csv')\n",
    "qq = pd.read_csv('data/higgs_qq.csv')\n",
    "wen = pd.read_csv('data/higgs_wen.csv')\n",
    "ww = pd.read_csv('data/higgs_ww.csv')\n",
    "zee = pd.read_csv('data/higgs_zee.csv')\n",
    "zz = pd.read_csv('data/higgs_zz.csv')\n",
    "\n",
    "\n",
    "framesMC_NoHiggs = [qq, ww, zz, zee, wen, eeqq]\n",
    "framesMC_NoHiggsNames = ['qq', 'ww', 'zz', 'zee', 'wen', 'eeqq']\n",
    "\n",
    "framesMC_HiggsModels = [higgs_85, higgs_90, higgs_95]\n",
    "framesMC_HiggsModelsNames = ['higgs_85', 'higgs_90', 'higgs_95']\n",
    "\n",
    "\n",
    "\n",
    "#framesListMc = framesMcNoHiggs + [higgs_85, higgs_90, higgs_95]\n",
    "#framesListMcNames = framesMcNoHiggsNames + ['higgs_85', 'higgs_90', 'higgs_95']\n",
    "\n",
    "\n",
    "\"\"\"\n",
    "# mvisf values are to high for histograms- lower by 10e15\n",
    "for frame in framesListMc:\n",
    "    frame['mvisf']/= 10e15\n",
    "data['mvisf']/= 10e15\n",
    "\"\"\""
   ]
  },
  {
   "cell_type": "markdown",
   "metadata": {},
   "source": [
    "<img src=\"samples_full.png\"> "
   ]
  },
  {
   "cell_type": "markdown",
   "metadata": {},
   "source": [
    "### Introduce weights in order to rescale all the MC samples to the same luminosity\n",
    "\n",
    "per definition the weight of each measured event (data) is $1$. Thus, we want to rescale the MC to the same ntegrated Luminosity of the data taking which is $L = 176.773 \\ \\mathrm{pb}^{-1}$\n",
    "\n",
    "The weight for each MC sample is:\n",
    "$$ \n",
    "        \\mathrm{weight}_\\mathrm{MC} = L \\cdot  \\frac{\\sigma_\\mathrm{MC} }{N_\\mathrm{MC}}\n",
    "$$"
   ]
  },
  {
   "cell_type": "code",
   "execution_count": 3,
   "metadata": {
    "collapsed": false
   },
   "outputs": [],
   "source": [
    "# load classifier\n",
    "import cPickle\n",
    "from sklearn.tree import DecisionTreeClassifier\n",
    "\n",
    "with open('GBCL.pkl', 'rb') as fid:\n",
    "    gnb_loaded = cPickle.load(fid)\n",
    "with open('SVM_PreProcessed_balanced.pkl', 'rb') as fid:\n",
    "    SVM_loaded = cPickle.load(fid)"
   ]
  },
  {
   "cell_type": "code",
   "execution_count": 4,
   "metadata": {
    "collapsed": true
   },
   "outputs": [],
   "source": [
    "def PickDiscVar_mH85 (df) :\n",
    "    discriminating_vars = ['btag1','btag2','ucsdbt0','acthm','mvissc','mmis']+['class','weight']\n",
    "    discriminating_vars = ['ucsdbt0','acthm','mvissc','mmis','xmj1','acop']+['class','weight']\n",
    "    discriminating_vars = [u'btag1', u'btag2',\n",
    "       u'ucsdbt0', u'mvis', u'mvissc', u'fmvis', u'fmmis', u'fth1',\n",
    "       u'mmis', u'acthm', u'maxcthj', u'acop', u'maxxov', u'enj1',\n",
    "       u'thj1', u'phj1', u'xmj1', u'enj2', u'thj2', u'phj2', u'xmj2',\n",
    "       u'pho_num', u'pho_ene', u'pho_the', u'pho_phi', u'ele_num', u'ele_ene',\n",
    "       u'ele_the', u'ele_phi', u'muon_num', u'muon_ene', u'muon_the',\n",
    "       u'muon_phi']\n",
    "    return df[discriminating_vars]"
   ]
  },
  {
   "cell_type": "code",
   "execution_count": 5,
   "metadata": {
    "collapsed": true
   },
   "outputs": [],
   "source": [
    "def Scale (df) :\n",
    "    min_on_training = np.array([  0., 0.,      0.,     40.469,  50.749,  46.922,  91.013,   0.137,  50.,      0.,\n",
    "   0.002,   0.003,   0.041,  28.927,   0.246,   0.,      2.04,    8.356,   0.016,\n",
    "   0.,      2.004,   0.,     -1.,      0.,      0.,      0.,     -1.,      0.,      0.,\n",
    "   0.,     -1.,      0. ,     0.   ])\n",
    "    range_on_training = [  1.,      1.,     16.493,  97.858,  47.048,  50.98,    0.698,   2.953,  79.988,\n",
    "   0.96,    0.998,   3.138,   0.839,  66.076,   2.65,    6.283 , 67.932,  60.739,\n",
    "   3.119,   6.283 , 54.567 ,  6. ,    62.469 ,  2.953,   6.284 ,  4.,     67.375,\n",
    "   2.888,   6.283 ,  3.   ,  70.25 ,   2.749,   6.283]\n",
    "    return  (df - min_on_training) / range_on_training"
   ]
  },
  {
   "cell_type": "code",
   "execution_count": 6,
   "metadata": {
    "collapsed": false
   },
   "outputs": [
    {
     "name": "stdout",
     "output_type": "stream",
     "text": [
      "641\n"
     ]
    }
   ],
   "source": [
    "crossSectionsMC_noHiggs = [102., 16.5, 0.975, 3.35, 2.9, 15600.]\n",
    "NumberMC_noHiggs = [200000., 294500., 196000., 29500., 81786., 5940000.]\n",
    "\n",
    "crossSectionsMC_HiggsModels = [0.094, 0.0667, 0.0333]\n",
    "NumberMC_HiggsModels = [3972., 3973., 3971.]\n",
    "\n",
    "\n",
    "Lum = 176.773\n",
    "\n",
    "\n",
    "weightsMC_noHiggs     = Lum*np.array(crossSectionsMC_noHiggs) / np.array(NumberMC_noHiggs) \n",
    "weightsMC_HiggsModels = Lum*np.array(crossSectionsMC_HiggsModels) / np.array(NumberMC_HiggsModels) \n",
    "\n",
    "\n",
    "#add column 'weight' to data frame of all bkg MC\n",
    "for i, frame in enumerate(framesMC_NoHiggs):\n",
    "    frame[\"weight\"] = weightsMC_noHiggs[i]\n",
    "    frame['BDT_selCut'] = gnb_loaded.decision_function(PickDiscVar_mH85(df=frame))\n",
    "    frame['SVM'] = SVM_loaded.decision_function(Scale(df=PickDiscVar_mH85(df=frame)))\n",
    "#add column 'weight' to data frame of all bkg+sig MC\n",
    "for i, frame in enumerate(framesMC_HiggsModels):\n",
    "    frame[\"weight\"] = weightsMC_HiggsModels[i]\n",
    "    frame['BDT_selCut'] = gnb_loaded.decision_function(PickDiscVar_mH85(df=frame))\n",
    "    frame['SVM'] = SVM_loaded.decision_function(Scale(df=PickDiscVar_mH85(df=frame)))\n",
    "\n",
    "#add column 'weight'=1 to data \n",
    "data[\"weight\"] = 1\n",
    "data['BDT_selCut'] = gnb_loaded.decision_function(PickDiscVar_mH85(df=data))\n",
    "data['SVM'] = SVM_loaded.decision_function(Scale(df=PickDiscVar_mH85(df=data)))\n",
    "\n",
    "print len(data['weight'])\n"
   ]
  },
  {
   "cell_type": "code",
   "execution_count": 40,
   "metadata": {
    "collapsed": false
   },
   "outputs": [],
   "source": [
    "cut = -500# -3.4#1.41379310345\n",
    "cut_SVC = 1."
   ]
  },
  {
   "cell_type": "code",
   "execution_count": 41,
   "metadata": {
    "collapsed": false
   },
   "outputs": [
    {
     "name": "stdout",
     "output_type": "stream",
     "text": [
      "34\n",
      "2.99177799959\n"
     ]
    }
   ],
   "source": [
    "print len(data[data['SVM']>cut_SVC]['weight'])\n",
    "print max(data['SVM'])"
   ]
  },
  {
   "cell_type": "markdown",
   "metadata": {},
   "source": [
    "### distribution of variable of interest"
   ]
  },
  {
   "cell_type": "code",
   "execution_count": 42,
   "metadata": {
    "collapsed": true
   },
   "outputs": [],
   "source": [
    "def GetHistogram (df, column, binning) :\n",
    "  \n",
    "    return np.histogram(a=df[column],\n",
    "                        bins = binning,\n",
    "                        weights=df['weight'])[0]"
   ]
  },
  {
   "cell_type": "code",
   "execution_count": 43,
   "metadata": {
    "collapsed": true
   },
   "outputs": [],
   "source": [
    "def ensure_dir(file_path):\n",
    "    directory = os.path.dirname(file_path)\n",
    "    if not os.path.exists(directory):\n",
    "        os.makedirs(directory)"
   ]
  },
  {
   "cell_type": "code",
   "execution_count": 44,
   "metadata": {
    "collapsed": false
   },
   "outputs": [],
   "source": [
    "\"\"\"\n",
    "variable_dict = {variable: 'mmis', \n",
    "                           'acop',\n",
    "                           'acthm',\n",
    "                           'fmvis',\n",
    "                             'mvis'\n",
    "    \n",
    "                }\n",
    "x_name_dict = { x_name: r'missing mass $m_\\mathrm{mis}$',  \n",
    "                        r'$\\pi -$ angles btw jets',\n",
    "                        r'$|\\cos(\\phi_\\mathrm{polar,pmiss})|$',\n",
    "                        r'visible mass (Z-adjusted) $m_\\mathrm{vis}$',\n",
    "               r'visible mass $m_\\mathrm{vis}$'\n",
    "    \n",
    "}\n",
    "\n",
    "x_unit_dict = { x_unit: r'$\\mathrm{GeV} / \\mathrm{c}^2$',\n",
    "                        r'$\\mathrm{rad}$',\n",
    "                        r'$1$',\n",
    "                        r'GeV',\n",
    "               r'GeV'\n",
    "    \n",
    "}\n",
    "binning_dict = { binning: np.linspace(50.,130.,20),\n",
    "                          np.linspace(1.5,np.pi,30),\n",
    "                          np.linspace(0,1.,20),\n",
    "                          np.linspace(60,100,20),\n",
    "                          np.linspace(70,100,12)\n",
    "               }\n",
    "\"\"\"\n",
    "mmis =  {'x_name':  r'missing mass $m_\\mathrm{mis}$',\n",
    "        'x_unit': r'$\\mathrm{GeV} / \\mathrm{c}^2$',\n",
    "        'binning': np.linspace(50.,130.,5)#np.linspace(50.,130.,20)\n",
    "        }\n",
    "acop =  {'x_name':  r'$\\pi -$ angles btw jets',\n",
    "        'x_unit':  r'$\\mathrm{rad}$',\n",
    "        'binning': np.linspace(1.5,np.pi,30)\n",
    "        }\n",
    "acthm =  {'x_name':  r'$|\\cos(\\phi_\\mathrm{polar,pmiss})|$',\n",
    "        'x_unit':  r'$1$',\n",
    "        'binning': np.linspace(0,1.,20),\n",
    "        }\n",
    "fmvis = {'x_name': r'visible mass (Z-adjusted) $m_\\mathrm{vis}$',\n",
    "        'x_unit':  r'GeV',\n",
    "        'binning': np.linspace(60,100,20),\n",
    "        }\n",
    "mvis = {'x_name': r'visible mass $m_\\mathrm{vis}$',\n",
    "        'x_unit':  r'GeV',\n",
    "        'binning': np.linspace(40,100,5)#np.linspace(40,100,20)\n",
    "        }\n",
    "# 0.592373282804, 0.336096938776, 0.085706920995\n",
    "xmj1 = {'x_name': r'more energetic 2-jet event mass $m_\\mathrm{jet1}$',\n",
    "        'x_unit':  r'GeV',\n",
    "        'binning': np.linspace(5,20,12)\n",
    "        }\n",
    "xmj2 = {'x_name': r'less energetic 2-jet event mass $m_\\mathrm{jet1}$',\n",
    "        'x_unit':  r'GeV',\n",
    "        'binning': np.linspace(5,20,5)\n",
    "        }\n",
    "ucsdbt0 = {'x_name': r'B tag, based on tracking information only',\n",
    "        'x_unit':  r'$1$',\n",
    "        'binning': np.append(np.linspace(0,8,10),np.array([10,14]))\n",
    "        }\n",
    "#CL: 0.213159843436, 0.213346591537, 0.115559705848\n",
    "\n",
    "\n",
    "var_dict = {'mmis': mmis,\n",
    "           'acop': acop,\n",
    "            'acthm': acthm,\n",
    "            'fmvis': fmvis,\n",
    "            'mvis': mvis,\n",
    "            'xmj1': xmj1,\n",
    "            'xmj2': xmj2,\n",
    "            'ucsdbt0': ucsdbt0 # \n",
    "           }\n",
    "\n",
    "#var_dict[var]['x_name']"
   ]
  },
  {
   "cell_type": "code",
   "execution_count": 45,
   "metadata": {
    "collapsed": false
   },
   "outputs": [],
   "source": [
    "path = '/home/janik/StatMethods/Project/plots/VariableDists/'\n",
    "ensure_dir(file_path=path)\n",
    "variable = 'mmis'\n",
    "x_name = variable\n",
    "x_unit = 'GeV'\n",
    "binning = np.array([50,80,85,90,95,100,105,110,140])\n",
    "save_path = path+variable"
   ]
  },
  {
   "cell_type": "code",
   "execution_count": 46,
   "metadata": {
    "collapsed": true
   },
   "outputs": [],
   "source": [
    "def SelectionCut (dataframe) :\n",
    "    dataframe = dataframe[dataframe['btag1']>0.4]\n",
    "    dataframe = dataframe[dataframe['btag2']>0.4]\n",
    "    \n",
    "    return dataframe"
   ]
  },
  {
   "cell_type": "code",
   "execution_count": 47,
   "metadata": {
    "collapsed": false
   },
   "outputs": [
    {
     "data": {
      "text/plain": [
       "'bkg = np.zeros(len(binning)-1)\\nfor dataframe in framesMC_NoHiggs :\\n    # do selection cuts    \\n    bkg += GetHistogram(df=SelectionCut(dataframe=dataframe),column=variable,binning=binning)\\n\\n    \\n    \\nsigModels = [] \\nfor dataframe in framesMC_HiggsModels :\\n    \\n    sigModels.append(GetHistogram(df=SelectionCut(dataframe=dataframe),column=variable,binning=binning))\\n    \\n\\ndata_hist = GetHistogram(df=SelectionCut(dataframe=data),column=variable,binning=binning)'"
      ]
     },
     "execution_count": 47,
     "metadata": {},
     "output_type": "execute_result"
    }
   ],
   "source": [
    "\"\"\"bkg = np.zeros(len(binning)-1)\n",
    "for dataframe in framesMC_NoHiggs :\n",
    "    # do selection cuts    \n",
    "    bkg += GetHistogram(df=SelectionCut(dataframe=dataframe),column=variable,binning=binning)\n",
    "\n",
    "    \n",
    "    \n",
    "sigModels = [] \n",
    "for dataframe in framesMC_HiggsModels :\n",
    "    \n",
    "    sigModels.append(GetHistogram(df=SelectionCut(dataframe=dataframe),column=variable,binning=binning))\n",
    "    \n",
    "\n",
    "data_hist = GetHistogram(df=SelectionCut(dataframe=data),column=variable,binning=binning)\"\"\""
   ]
  },
  {
   "cell_type": "code",
   "execution_count": 48,
   "metadata": {
    "collapsed": false
   },
   "outputs": [],
   "source": [
    "bkg = np.zeros(len(binning)-1)\n",
    "for dataframe in framesMC_NoHiggs :\n",
    "    # do selection cuts    \n",
    "    #bkg += GetHistogram(df=dataframe[dataframe['BDT_selCut']>cut],column=variable,binning=binning)\n",
    "    bkg += GetHistogram(df=dataframe[dataframe['SVM']>cut_SVC],column=variable,binning=binning)\n",
    "\n",
    "    \n",
    "sigModels = [] \n",
    "for dataframe in framesMC_HiggsModels :\n",
    "    \n",
    "    sigModels.append(GetHistogram(df=dataframe[dataframe['SVM']>cut_SVC],column=variable,binning=binning))\n",
    "    \n",
    "\n",
    "data_hist = GetHistogram(df=data[data['SVM']>cut_SVC],column=variable,binning=binning)"
   ]
  },
  {
   "cell_type": "code",
   "execution_count": 49,
   "metadata": {
    "collapsed": false
   },
   "outputs": [
    {
     "data": {
      "image/png": "[encoded data removed]",
      "text/plain": [
       "<matplotlib.figure.Figure at 0x7f476785f310>"
      ]
     },
     "metadata": {},
     "output_type": "display_data"
    }
   ],
   "source": [
    "reload(pl)\n",
    "pl.BkgSigHistos(background=bkg,signals=sigModels,data=data_hist,variable_binning=binning,\n",
    "                x_label=[x_name,x_unit],savepath=None)#save_path)"
   ]
  },
  {
   "cell_type": "markdown",
   "metadata": {},
   "source": [
    "## The Log-likelihood ratio we define to be\n",
    "\n",
    "$$\n",
    "    -2 \\log (Q(m_H)) = 2 s_{tot} - 2 \\sum_{i=1}^{N_{bins}} N_i \\log \\left( 1 + \\frac{s_i(m_H)}{b_i} \\right)\n",
    "$$"
   ]
  },
  {
   "cell_type": "code",
   "execution_count": 50,
   "metadata": {
    "collapsed": false
   },
   "outputs": [
    {
     "data": {
      "text/plain": [
       "<module 'stats' from 'stats.pyc'>"
      ]
     },
     "execution_count": 50,
     "metadata": {},
     "output_type": "execute_result"
    }
   ],
   "source": [
    "import stats as stat\n",
    "reload(stat)"
   ]
  },
  {
   "cell_type": "code",
   "execution_count": 51,
   "metadata": {
    "collapsed": false
   },
   "outputs": [],
   "source": [
    "Nexp = 10000\n",
    "llr_85 = stat.LogLikRatio(background=bkg,signal=sigModels[0],N_experiments=Nexp)\n",
    "llr_90 = stat.LogLikRatio(background=bkg,signal=sigModels[1],N_experiments=Nexp)\n",
    "llr_95 = stat.LogLikRatio(background=bkg,signal=sigModels[2],N_experiments=Nexp)\n",
    "\n",
    "llr_obs = stat.LogLikRatioObserved(background=bkg,signals=sigModels,data=data_hist)"
   ]
  },
  {
   "cell_type": "code",
   "execution_count": 52,
   "metadata": {
    "collapsed": false
   },
   "outputs": [],
   "source": [
    "#print llr_obs\n",
    "#plt.hist(llr_85, bins=30)\n",
    "#plt.show()"
   ]
  },
  {
   "cell_type": "code",
   "execution_count": 53,
   "metadata": {
    "collapsed": true
   },
   "outputs": [],
   "source": [
    "path = '/home/janik/StatMethods/Project/plots/loglikeliratio/'\n",
    "ensure_dir(file_path=path)\n",
    "save_path = path+variable"
   ]
  },
  {
   "cell_type": "code",
   "execution_count": 54,
   "metadata": {
    "collapsed": false
   },
   "outputs": [
    {
     "name": "stdout",
     "output_type": "stream",
     "text": [
      "[0.96023915194000153, 0.12648033985529405, -0.16496995252861346]\n"
     ]
    }
   ],
   "source": [
    "print llr_obs"
   ]
  },
  {
   "cell_type": "code",
   "execution_count": 55,
   "metadata": {
    "collapsed": false,
    "scrolled": false
   },
   "outputs": [
    {
     "name": "stdout",
     "output_type": "stream",
     "text": [
      "190\n",
      "161\n",
      "162\n"
     ]
    },
    {
     "data": {
      "image/png": "[encoded data removed]",
      "text/plain": [
       "<matplotlib.figure.Figure at 0x7f4767832f50>"
      ]
     },
     "metadata": {},
     "output_type": "display_data"
    },
    {
     "name": "stdout",
     "output_type": "stream",
     "text": [
      "[[0.31629999999999991, 0.16330000000000006], [0.36769999999999997, 0.33460000000000001], [0.30359999999999998, 0.61199999999999966]]\n"
     ]
    }
   ],
   "source": [
    "reload(pl)\n",
    "CLlist = pl.LogLikRatioPlots([llr_85,llr_90,llr_95],Nbins=300,obs=llr_obs,savepath=None)#save_path)\n",
    "print CLlist"
   ]
  },
  {
   "cell_type": "markdown",
   "metadata": {},
   "source": [
    "$$CL_s = \\frac{CL_{s+b}}{CL_b} = \\frac{CL_{s+b}}{1-(1-CL_b)}$$"
   ]
  },
  {
   "cell_type": "code",
   "execution_count": 56,
   "metadata": {
    "collapsed": false
   },
   "outputs": [
    {
     "name": "stdout",
     "output_type": "stream",
     "text": [
      "[0.2388474477109844, 0.52917918709473344, 0.87880528431935623]\n",
      "Confidence level CL >= \n",
      "     0.761152552289\n",
      "     0.470820812905\n",
      "     0.121194715681\n"
     ]
    }
   ],
   "source": [
    "CLs = [entry[1]/(1-entry[0]) for entry in CLlist]\n",
    "print CLs\n",
    "\n",
    "print \"Confidence level CL >= \"\n",
    "for i in xrange(len(CLs)):\n",
    "    print \"    \", 1 - CLs[i]"
   ]
  },
  {
   "cell_type": "markdown",
   "metadata": {
    "collapsed": true
   },
   "source": [
    "## stuff to try"
   ]
  },
  {
   "cell_type": "code",
   "execution_count": null,
   "metadata": {
    "collapsed": false
   },
   "outputs": [],
   "source": [
    "b = bkg\n",
    "s = sigModels[0]\n",
    "s_tot = s.sum()\n",
    "\n",
    "llr_b_like = []\n",
    "llr_sPlusb_like = []\n",
    "N_exp = 10000\n",
    "\n",
    "for k in xrange(N_exp) :\n",
    "    N = np.random.poisson(lam=b)\n",
    "    llr_b_like.append(2*s_tot - 2*np.dot(N,np.log(1+s/b)))\n",
    "\n",
    "for k in xrange(N_exp) :\n",
    "    N = np.random.poisson(lam=(s+b))\n",
    "    llr_sPlusb_like.append(2*s_tot - 2*np.dot(N,np.log(1+s/b)))\n",
    "    \n",
    "    \n"
   ]
  },
  {
   "cell_type": "code",
   "execution_count": null,
   "metadata": {
    "collapsed": false
   },
   "outputs": [],
   "source": [
    "plt.hist(llr_b_like,40,color='blue',alpha=0.5,label='bkg-like',normed=True)\n",
    "plt.hist(llr_sPlusb_like,40,color='red',alpha=0.5,label='sig+bkg-like',normed=True)\n",
    "plt.xlabel(r'$-2 \\log (Q)$')\n",
    "plt.ylabel('p.d.f.')\n",
    "plt.legend()\n",
    "plt.show()\n"
   ]
  },
  {
   "cell_type": "code",
   "execution_count": 276,
   "metadata": {
    "collapsed": false
   },
   "outputs": [
    {
     "ename": "KeyError",
     "evalue": "'btag1'",
     "output_type": "error",
     "traceback": [
      "\u001b[0;31m---------------------------------------------------------------------------\u001b[0m",
      "\u001b[0;31mKeyError\u001b[0m                                  Traceback (most recent call last)",
      "\u001b[0;32m<ipython-input-276-e2191d1c8c2f>\u001b[0m in \u001b[0;36m<module>\u001b[0;34m()\u001b[0m\n\u001b[1;32m     10\u001b[0m                          normed=True)[0]\n\u001b[1;32m     11\u001b[0m \u001b[1;33m\u001b[0m\u001b[0m\n\u001b[0;32m---> 12\u001b[0;31m \u001b[0mbkg\u001b[0m \u001b[1;33m=\u001b[0m \u001b[0mnp\u001b[0m\u001b[1;33m.\u001b[0m\u001b[0mzeros\u001b[0m\u001b[1;33m(\u001b[0m\u001b[1;33m(\u001b[0m\u001b[0mlen\u001b[0m\u001b[1;33m(\u001b[0m\u001b[0mvar_dict\u001b[0m\u001b[1;33m[\u001b[0m\u001b[0mvar1\u001b[0m\u001b[1;33m]\u001b[0m\u001b[1;33m[\u001b[0m\u001b[1;34m'binning'\u001b[0m\u001b[1;33m]\u001b[0m\u001b[1;33m)\u001b[0m\u001b[1;33m-\u001b[0m\u001b[1;36m1\u001b[0m\u001b[1;33m,\u001b[0m \u001b[0mlen\u001b[0m\u001b[1;33m(\u001b[0m\u001b[0mvar_dict\u001b[0m\u001b[1;33m[\u001b[0m\u001b[0mvar2\u001b[0m\u001b[1;33m]\u001b[0m\u001b[1;33m[\u001b[0m\u001b[1;34m'binning'\u001b[0m\u001b[1;33m]\u001b[0m\u001b[1;33m)\u001b[0m\u001b[1;33m-\u001b[0m\u001b[1;36m1\u001b[0m\u001b[1;33m)\u001b[0m\u001b[1;33m)\u001b[0m\u001b[1;33m\u001b[0m\u001b[0m\n\u001b[0m\u001b[1;32m     13\u001b[0m \u001b[1;32mfor\u001b[0m \u001b[0mdataframe\u001b[0m \u001b[1;32min\u001b[0m \u001b[0mframesMC_NoHiggs\u001b[0m \u001b[1;33m:\u001b[0m\u001b[1;33m\u001b[0m\u001b[0m\n\u001b[1;32m     14\u001b[0m     bkg += GetHistogram_TwoD(df=dataframe,\n",
      "\u001b[0;31mKeyError\u001b[0m: 'btag1'"
     ]
    }
   ],
   "source": [
    "var1 = 'mvis'\n",
    "var2 = 'btag1'\n",
    "\n",
    "def GetHistogram_TwoD (df, column1, binning1, column2, binning2) :\n",
    "  \n",
    "    return np.histogram2d(df[column1],\n",
    "                        df[column2],\n",
    "                        bins = [binning1,binning2],\n",
    "                        weights=df['weight'],\n",
    "                         normed=True)[0]\n",
    "\n",
    "bkg = np.zeros((len(var_dict[var1]['binning'])-1, len(var_dict[var2]['binning'])-1))\n",
    "for dataframe in framesMC_NoHiggs :\n",
    "    bkg += GetHistogram_TwoD(df=dataframe,\n",
    "                             column1=var1,binning1=var_dict[var1]['binning'],\n",
    "                             column2=var2,binning2=var_dict[var2]['binning'])\n",
    "\n",
    "sigModels = [] \n",
    "for dataframe in framesMC_HiggsModels :\n",
    "    sigModels.append(GetHistogram_TwoD(df=dataframe,\n",
    "                             column1=var1,binning1=var_dict[var1]['binning'],\n",
    "                             column2=var2,binning2=var_dict[var2]['binning']))\n",
    "    \n",
    "\n",
    "data_hist = GetHistogram_TwoD(df=data,\n",
    "                             column1=var1,binning1=var_dict[var1]['binning'],\n",
    "                             column2=var2,binning2=var_dict[var2]['binning'])\n",
    "\n",
    "for dataframe in framesMC_HiggsModels :\n",
    "    plt.hist2d(dataframe[var1],\n",
    "                        dataframe[var2],\n",
    "                        bins = [var_dict[var1]['binning'],var_dict[var2]['binning']],\n",
    "                        weights=dataframe['weight'])\n",
    "    plt.show()\n",
    "for dataframe in framesMC_NoHiggs :\n",
    "    plt.hist2d(dataframe[var1],\n",
    "                        dataframe[var2],\n",
    "                        bins = [var_dict[var1]['binning'],var_dict[var2]['binning']],\n",
    "                        weights=dataframe['weight'])\n",
    "    plt.show()"
   ]
  },
  {
   "cell_type": "code",
   "execution_count": 266,
   "metadata": {
    "collapsed": false
   },
   "outputs": [],
   "source": [
    "Nexp = 10000\n",
    "llr_85 = stat.LogLikRatio_TwoD(background=bkg,signal=sigModels[0],N_experiments=Nexp)\n",
    "llr_90 = stat.LogLikRatio_TwoD(background=bkg,signal=sigModels[1],N_experiments=Nexp)\n",
    "llr_95 = stat.LogLikRatio_TwoD(background=bkg,signal=sigModels[2],N_experiments=Nexp)\n",
    "\n",
    "llr_obs = stat.LogLikRatioObserved(background=bkg,signals=sigModels,data=data_hist)"
   ]
  },
  {
   "cell_type": "code",
   "execution_count": 273,
   "metadata": {
    "collapsed": false
   },
   "outputs": [
    {
     "name": "stdout",
     "output_type": "stream",
     "text": [
      "[[  0.00000000e+00   0.00000000e+00   4.68422706e-06   7.45420492e-04]\n",
      " [  0.00000000e+00   0.00000000e+00   6.86154736e-04   2.89343998e-03]\n",
      " [  0.00000000e+00   1.31592128e-03   4.42380136e-03   1.17387045e-03]\n",
      " [  5.98643192e-04   4.84934104e-03   3.30872325e-03   0.00000000e+00]]\n",
      "[[  0.00000000e+00   0.00000000e+00   1.00857287e-06   3.12657590e-05]\n",
      " [  0.00000000e+00   0.00000000e+00   1.18003026e-04   2.80383258e-04]\n",
      " [  0.00000000e+00   1.85577408e-04   1.51285930e-03   7.66515381e-05]\n",
      " [  1.71457388e-05   8.51235502e-04   2.59203227e-04   0.00000000e+00]]\n"
     ]
    }
   ],
   "source": [
    "#print llr_obs\n",
    "#print llr_85\n",
    "print bkg\n",
    "print sigModels[0]"
   ]
  },
  {
   "cell_type": "code",
   "execution_count": null,
   "metadata": {
    "collapsed": true
   },
   "outputs": [],
   "source": []
  },
  {
   "cell_type": "code",
   "execution_count": null,
   "metadata": {
    "collapsed": true
   },
   "outputs": [],
   "source": []
  },
  {
   "cell_type": "code",
   "execution_count": null,
   "metadata": {
    "collapsed": true
   },
   "outputs": [],
   "source": []
  },
  {
   "cell_type": "code",
   "execution_count": null,
   "metadata": {
    "collapsed": false
   },
   "outputs": [],
   "source": [
    "bkg = GetHistogram(qq,column=variable,binning=binning)"
   ]
  },
  {
   "cell_type": "code",
   "execution_count": null,
   "metadata": {
    "collapsed": false
   },
   "outputs": [],
   "source": [
    "print(len(binning))\n",
    "print(len(bkg))\n",
    "\n",
    "print(binning)\n",
    "print(bkg)\n",
    "binw = binning[1]-binning[0]\n",
    "plt.bar(binning[:-1]+binw/2.,bkg,width=binw)\n",
    "plt.show()"
   ]
  },
  {
   "cell_type": "code",
   "execution_count": null,
   "metadata": {
    "collapsed": true
   },
   "outputs": [],
   "source": []
  },
  {
   "cell_type": "code",
   "execution_count": null,
   "metadata": {
    "collapsed": true
   },
   "outputs": [],
   "source": []
  },
  {
   "cell_type": "code",
   "execution_count": null,
   "metadata": {
    "collapsed": true
   },
   "outputs": [],
   "source": []
  },
  {
   "cell_type": "code",
   "execution_count": null,
   "metadata": {
    "collapsed": false
   },
   "outputs": [],
   "source": [
    "a = qq.groupby(variable)['weight'].sum()\n",
    "\n",
    "plt.hist(a)\n",
    "plt.show()"
   ]
  },
  {
   "cell_type": "code",
   "execution_count": 239,
   "metadata": {
    "collapsed": false
   },
   "outputs": [
    {
     "name": "stdout",
     "output_type": "stream",
     "text": [
      "414\n"
     ]
    }
   ],
   "source": [
    "a = np.array([[1,2],[3,4]])\n",
    "b = np.array([[1,2],[3,100]])\n",
    "print np.sum(a*b)"
   ]
  },
  {
   "cell_type": "code",
   "execution_count": null,
   "metadata": {
    "collapsed": false
   },
   "outputs": [],
   "source": [
    "for col in qq.columns :\n",
    "    print(col)"
   ]
  },
  {
   "cell_type": "code",
   "execution_count": null,
   "metadata": {
    "collapsed": false
   },
   "outputs": [],
   "source": [
    "for col in data :\n",
    "    print(col)"
   ]
  },
  {
   "cell_type": "code",
   "execution_count": null,
   "metadata": {
    "collapsed": true
   },
   "outputs": [],
   "source": []
  }
 ],
 "metadata": {
  "kernelspec": {
   "display_name": "Python 2",
   "language": "python",
   "name": "python2"
  },
  "language_info": {
   "codemirror_mode": {
    "name": "ipython",
    "version": 2
   },
   "file_extension": ".py",
   "mimetype": "text/x-python",
   "name": "python",
   "nbconvert_exporter": "python",
   "pygments_lexer": "ipython2",
   "version": "2.7.13"
  }
 },
 "nbformat": 4,
 "nbformat_minor": 2
}
