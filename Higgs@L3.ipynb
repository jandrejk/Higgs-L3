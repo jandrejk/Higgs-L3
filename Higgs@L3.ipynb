{
 "cells": [
  {
   "cell_type": "code",
   "execution_count": 1,
   "metadata": {
    "collapsed": true
   },
   "outputs": [],
   "source": [
    "import numpy as np\n",
    "import matplotlib.pyplot as plt\n",
    "import pandas as pd\n",
    "import os\n",
    "\n",
    "import plotting as pl"
   ]
  },
  {
   "cell_type": "markdown",
   "metadata": {},
   "source": [
    "### Read in the data"
   ]
  },
  {
   "cell_type": "code",
   "execution_count": 2,
   "metadata": {
    "collapsed": false
   },
   "outputs": [],
   "source": [
    "data = pd.read_csv('data/higgs_data.csv')\n",
    "\n",
    "higgs_85 = pd.read_csv('data/higgs_higgs_85.csv')\n",
    "higgs_90 = pd.read_csv('data/higgs_higgs_90.csv')\n",
    "higgs_95 = pd.read_csv('data/higgs_higgs_95.csv')\n",
    "eeqq = pd.read_csv('data/higgs_eeqq.csv')\n",
    "qq = pd.read_csv('data/higgs_qq.csv')\n",
    "wen = pd.read_csv('data/higgs_wen.csv')\n",
    "ww = pd.read_csv('data/higgs_ww.csv')\n",
    "zee = pd.read_csv('data/higgs_zee.csv')\n",
    "zz = pd.read_csv('data/higgs_zz.csv')\n",
    "\n",
    "\n",
    "framesMC_NoHiggs = [qq, ww, zz, zee, wen, eeqq]\n",
    "framesMC_NoHiggsNames = ['qq', 'ww', 'zz', 'zee', 'wen', 'eeqq']\n",
    "\n",
    "framesMC_HiggsModels = [higgs_85, higgs_90, higgs_95]\n",
    "framesMC_HiggsModelsNames = ['higgs_85', 'higgs_90', 'higgs_95']\n"
   ]
  },
  {
   "cell_type": "markdown",
   "metadata": {},
   "source": [
    "<img src=\"samples_full.png\"> "
   ]
  },
  {
   "cell_type": "markdown",
   "metadata": {},
   "source": [
    "### Introduce weights in order to rescale all the MC samples to the same luminosity\n",
    "\n",
    "per definition the weight of each measured event (data) is $1$. Thus, we want to rescale the MC to the same ntegrated Luminosity of the data taking which is $L = 176.773 \\ \\mathrm{pb}^{-1}$\n",
    "\n",
    "The weight for each MC sample is:\n",
    "$$ \n",
    "        \\mathrm{weight}_\\mathrm{MC} = L \\cdot  \\frac{\\sigma_\\mathrm{MC} }{N_\\mathrm{MC}}\n",
    "$$"
   ]
  },
  {
   "cell_type": "code",
   "execution_count": 3,
   "metadata": {
    "collapsed": false
   },
   "outputs": [
    {
     "name": "stdout",
     "output_type": "stream",
     "text": [
      "<bound method GradientBoostingClassifier.get_params of GradientBoostingClassifier(criterion='friedman_mse', init=None,\n",
      "              learning_rate=0.01, loss='deviance', max_depth=3,\n",
      "              max_features=None, max_leaf_nodes=None,\n",
      "              min_impurity_split=1e-07, min_samples_leaf=1,\n",
      "              min_samples_split=2, min_weight_fraction_leaf=0.0,\n",
      "              n_estimators=300, presort='auto', random_state=0,\n",
      "              subsample=1.0, verbose=0, warm_start=False)>\n",
      "<bound method GradientBoostingClassifier.get_params of GradientBoostingClassifier(criterion='friedman_mse', init=None,\n",
      "              learning_rate=0.05, loss='deviance', max_depth=3,\n",
      "              max_features=None, max_leaf_nodes=None,\n",
      "              min_impurity_split=1e-07, min_samples_leaf=1,\n",
      "              min_samples_split=2, min_weight_fraction_leaf=0.0,\n",
      "              n_estimators=100, presort='auto', random_state=0,\n",
      "              subsample=1.0, verbose=0, warm_start=False)>\n",
      "<bound method GradientBoostingClassifier.get_params of GradientBoostingClassifier(criterion='friedman_mse', init=None,\n",
      "              learning_rate=0.01, loss='deviance', max_depth=3,\n",
      "              max_features=None, max_leaf_nodes=None,\n",
      "              min_impurity_split=1e-07, min_samples_leaf=1,\n",
      "              min_samples_split=2, min_weight_fraction_leaf=0.0,\n",
      "              n_estimators=300, presort='auto', random_state=0,\n",
      "              subsample=1.0, verbose=0, warm_start=False)>\n"
     ]
    }
   ],
   "source": [
    "# load classifier\n",
    "import cPickle\n",
    "from sklearn.tree import DecisionTreeClassifier\n",
    "\n",
    "with open('BDT_85higgs1.pkl', 'rb') as fid:\n",
    "    BDT_85 = cPickle.load(fid)\n",
    "\n",
    "with open('BDT_90higgs4.pkl', 'rb') as fid:\n",
    "    BDT_90 = cPickle.load(fid)\n",
    "\n",
    "with open('BDT_95higgs3.pkl', 'rb') as fid:\n",
    "    BDT_95 = cPickle.load(fid)\n",
    "    \n",
    "print BDT_85.get_params  \n",
    "print BDT_90.get_params  \n",
    "print BDT_95.get_params  \n"
   ]
  },
  {
   "cell_type": "code",
   "execution_count": 4,
   "metadata": {
    "collapsed": true
   },
   "outputs": [],
   "source": [
    "def PickDiscVar_mH85 (df) :\n",
    "    discriminating_vars = ['btag1','btag2','ucsdbt0','acthm','mvissc','mmis']+['class','weight']\n",
    "    discriminating_vars = ['ucsdbt0','acthm','mvissc','mmis','xmj1','acop']+['class','weight']\n",
    "    discriminating_vars = [u'btag1', u'btag2',\n",
    "       u'ucsdbt0', u'mvis', u'mvissc', u'fmvis', u'fmmis', u'fth1',\n",
    "       u'mmis', u'acthm', u'maxcthj', u'acop', u'maxxov', u'enj1',\n",
    "       u'thj1', u'phj1', u'xmj1', u'enj2', u'thj2', u'phj2', u'xmj2',\n",
    "       u'pho_num', u'pho_ene', u'pho_the', u'pho_phi', u'ele_num', u'ele_ene',\n",
    "       u'ele_the', u'ele_phi', u'muon_num', u'muon_ene', u'muon_the',\n",
    "       u'muon_phi']\n",
    "    return df[discriminating_vars]"
   ]
  },
  {
   "cell_type": "code",
   "execution_count": 5,
   "metadata": {
    "collapsed": true
   },
   "outputs": [],
   "source": [
    "def KillVars (df) :\n",
    "    discriminating_vars = [u'btag1', u'btag2',\n",
    "       u'ucsdbt0', u'mvis', u'mvissc', u'fmvis', u'fmmis', u'fth1',\n",
    "       u'mmis', u'acthm', u'maxcthj', u'acop', u'maxxov', u'enj1',\n",
    "       u'thj1', u'phj1', u'xmj1', u'enj2', u'thj2', u'phj2', u'xmj2',\n",
    "       u'pho_num', u'pho_ene', u'pho_the', u'pho_phi', u'ele_num', u'ele_ene',\n",
    "       u'ele_the', u'ele_phi', u'muon_num', u'muon_ene', u'muon_the',\n",
    "       u'muon_phi']+['weight']\n",
    "    return df[discriminating_vars]"
   ]
  },
  {
   "cell_type": "code",
   "execution_count": 6,
   "metadata": {
    "collapsed": false
   },
   "outputs": [],
   "source": [
    "crossSectionsMC_noHiggs = [102., 16.5, 0.975, 3.35, 2.9, 15600.]\n",
    "NumberMC_noHiggs = [200000., 294500., 196000., 29500., 81786., 5940000.]\n",
    "\n",
    "crossSectionsMC_HiggsModels = [0.094, 0.0667, 0.0333]\n",
    "NumberMC_HiggsModels = [3972., 3973., 3971.]\n",
    "\n",
    "\n",
    "Lum = 176.773\n",
    "\n",
    "\n",
    "weightsMC_noHiggs     = Lum*np.array(crossSectionsMC_noHiggs) / np.array(NumberMC_noHiggs) \n",
    "weightsMC_HiggsModels = Lum*np.array(crossSectionsMC_HiggsModels) / np.array(NumberMC_HiggsModels) \n",
    "\n",
    "\n",
    "#add column 'weight' to data frame of all bkg MC\n",
    "for i, frame in enumerate(framesMC_NoHiggs):\n",
    "    frame[\"weight\"] = weightsMC_noHiggs[i]\n",
    "    frame['BDT_selCut85'] = BDT_85.decision_function(PickDiscVar_mH85(df=frame))\n",
    "    frame['BDT_selCut90'] = BDT_90.decision_function(PickDiscVar_mH85(df=frame))\n",
    "    frame['BDT_selCut95'] = BDT_95.decision_function(PickDiscVar_mH85(df=frame))\n",
    "\n",
    "#add column 'weight' to data frame of all bkg+sig MC\n",
    "for i, frame in enumerate(framesMC_HiggsModels):\n",
    "    frame[\"weight\"] = weightsMC_HiggsModels[i]\n",
    "    frame['BDT_selCut85'] = BDT_85.decision_function(PickDiscVar_mH85(df=frame))\n",
    "    frame['BDT_selCut90'] = BDT_90.decision_function(PickDiscVar_mH85(df=frame))\n",
    "    frame['BDT_selCut95'] = BDT_95.decision_function(PickDiscVar_mH85(df=frame))\n",
    "\n",
    "#add column 'weight'=1 to data \n",
    "data[\"weight\"] = 1\n",
    "data['BDT_selCut85'] = BDT_85.decision_function(PickDiscVar_mH85(df=data))\n",
    "data['BDT_selCut90'] = BDT_90.decision_function(PickDiscVar_mH85(df=data))\n",
    "data['BDT_selCut95'] = BDT_95.decision_function(PickDiscVar_mH85(df=data))\n"
   ]
  },
  {
   "cell_type": "code",
   "execution_count": 7,
   "metadata": {
    "collapsed": true
   },
   "outputs": [],
   "source": [
    "cut_85 = -3.15\n",
    "cut_90 = -2.9\n",
    "cut_95 = -2.9"
   ]
  },
  {
   "cell_type": "code",
   "execution_count": 8,
   "metadata": {
    "collapsed": true
   },
   "outputs": [],
   "source": [
    "df_bkg = pd.concat(framesMC_NoHiggs)"
   ]
  },
  {
   "cell_type": "code",
   "execution_count": null,
   "metadata": {
    "collapsed": true
   },
   "outputs": [],
   "source": []
  },
  {
   "cell_type": "code",
   "execution_count": 9,
   "metadata": {
    "collapsed": true
   },
   "outputs": [],
   "source": [
    "data_85 = KillVars(data[data['BDT_selCut85']>cut_85])\n",
    "data_90 = KillVars(data[data['BDT_selCut90']>cut_90])\n",
    "data_95 = KillVars(data[data['BDT_selCut95']>cut_95])\n",
    "\n",
    "sig_85 = KillVars(framesMC_HiggsModels[0][framesMC_HiggsModels[0]['BDT_selCut85']>cut_85])\n",
    "sig_90 = KillVars(framesMC_HiggsModels[1][framesMC_HiggsModels[1]['BDT_selCut90']>cut_90])\n",
    "sig_95 = KillVars(framesMC_HiggsModels[2][framesMC_HiggsModels[2]['BDT_selCut95']>cut_95])\n",
    "\n",
    "bkg_85 = KillVars(df_bkg[df_bkg['BDT_selCut85']>cut_85])\n",
    "bkg_90 = KillVars(df_bkg[df_bkg['BDT_selCut90']>cut_90])\n",
    "bkg_95 = KillVars(df_bkg[df_bkg['BDT_selCut95']>cut_95])\n"
   ]
  },
  {
   "cell_type": "code",
   "execution_count": 10,
   "metadata": {
    "collapsed": false
   },
   "outputs": [
    {
     "name": "stdout",
     "output_type": "stream",
     "text": [
      "0.397343881101\n",
      "27\n"
     ]
    }
   ],
   "source": [
    "# purity in range 90 +- 5 GeV\n",
    "\n",
    "sig_in_interval = sig_90[(sig_90['mmis']<95)&(sig_90['mmis']>85)]['weight'].sum()\n",
    "bkg_in_interval = bkg_90[(bkg_90['mmis']<95)&(bkg_90['mmis']>85)]['weight'].sum()\n",
    "\n",
    "purity = sig_in_interval*1. / bkg_in_interval\n",
    "\n",
    "print purity\n",
    "print len(data_90['weight'])"
   ]
  },
  {
   "cell_type": "code",
   "execution_count": 11,
   "metadata": {
    "collapsed": true
   },
   "outputs": [],
   "source": [
    "data_85.to_csv('data_85')\n",
    "data_90.to_csv('data_90')\n",
    "data_95.to_csv('data_95')\n",
    "\n",
    "sig_85.to_csv('sig_85')\n",
    "sig_90.to_csv('sig_90')\n",
    "sig_95.to_csv('sig_95')\n",
    "\n",
    "bkg_85.to_csv('bkg_85')\n",
    "bkg_90.to_csv('bkg_90')\n",
    "bkg_95.to_csv('bkg_95')"
   ]
  },
  {
   "cell_type": "code",
   "execution_count": null,
   "metadata": {
    "collapsed": true
   },
   "outputs": [],
   "source": []
  },
  {
   "cell_type": "code",
   "execution_count": null,
   "metadata": {
    "collapsed": true
   },
   "outputs": [],
   "source": []
  },
  {
   "cell_type": "code",
   "execution_count": null,
   "metadata": {
    "collapsed": true
   },
   "outputs": [],
   "source": []
  },
  {
   "cell_type": "code",
   "execution_count": null,
   "metadata": {
    "collapsed": true
   },
   "outputs": [],
   "source": []
  },
  {
   "cell_type": "code",
   "execution_count": null,
   "metadata": {
    "collapsed": true
   },
   "outputs": [],
   "source": []
  },
  {
   "cell_type": "code",
   "execution_count": null,
   "metadata": {
    "collapsed": true
   },
   "outputs": [],
   "source": []
  },
  {
   "cell_type": "code",
   "execution_count": null,
   "metadata": {
    "collapsed": true
   },
   "outputs": [],
   "source": []
  },
  {
   "cell_type": "code",
   "execution_count": 12,
   "metadata": {
    "collapsed": false
   },
   "outputs": [
    {
     "data": {
      "text/plain": [
       "'signalModelindex = 2\\n\\ndf_MC_noHiggs = pd.concat(framesMC_NoHiggs)\\ndf_MC_mH85 = framesMC_HiggsModels[signalModelindex]\\n#merge bkg and sig MC\\ndf_mH85 = pd.concat([df_MC_noHiggs,df_MC_mH85])'"
      ]
     },
     "execution_count": 12,
     "metadata": {},
     "output_type": "execute_result"
    }
   ],
   "source": [
    "\"\"\"signalModelindex = 2\n",
    "\n",
    "df_MC_noHiggs = pd.concat(framesMC_NoHiggs)\n",
    "df_MC_mH85 = framesMC_HiggsModels[signalModelindex]\n",
    "#merge bkg and sig MC\n",
    "df_mH85 = pd.concat([df_MC_noHiggs,df_MC_mH85])\"\"\""
   ]
  },
  {
   "cell_type": "code",
   "execution_count": 13,
   "metadata": {
    "collapsed": false
   },
   "outputs": [
    {
     "data": {
      "text/plain": [
       "\"print ('There are ', len(data['weight']), 'data events recorded')\\n\\ncut = -2.9# -053.4#1.41379310345\\nprint ('There are ', len(data[data['BDT_selCut']>cut]['weight']), 'candidates selected after the cut')\""
      ]
     },
     "execution_count": 13,
     "metadata": {},
     "output_type": "execute_result"
    }
   ],
   "source": [
    "\"\"\"print ('There are ', len(data['weight']), 'data events recorded')\n",
    "\n",
    "cut = -2.9# -053.4#1.41379310345\n",
    "print ('There are ', len(data[data['BDT_selCut']>cut]['weight']), 'candidates selected after the cut')\"\"\""
   ]
  },
  {
   "cell_type": "code",
   "execution_count": 14,
   "metadata": {
    "collapsed": false
   },
   "outputs": [
    {
     "data": {
      "text/plain": [
       "\"# purity in range 90 +- 5 GeV\\n\\nsig_in_interval = df_MC_mH85[(df_MC_mH85['mmis']<95)&(df_MC_mH85['mmis']>85)&(df_MC_mH85['BDT_selCut']>cut)]['weight'].sum()\\nbkg_in_interval = df_MC_noHiggs[(df_MC_noHiggs['mmis']<95)&(df_MC_noHiggs['mmis']>85)&(df_MC_noHiggs['BDT_selCut']>cut)]['weight'].sum()\\n\\npurity = sig_in_interval*1. / bkg_in_interval\\n\\nprint purity\""
      ]
     },
     "execution_count": 14,
     "metadata": {},
     "output_type": "execute_result"
    }
   ],
   "source": [
    "\"\"\"# purity in range 90 +- 5 GeV\n",
    "\n",
    "sig_in_interval = df_MC_mH85[(df_MC_mH85['mmis']<95)&(df_MC_mH85['mmis']>85)&(df_MC_mH85['BDT_selCut']>cut)]['weight'].sum()\n",
    "bkg_in_interval = df_MC_noHiggs[(df_MC_noHiggs['mmis']<95)&(df_MC_noHiggs['mmis']>85)&(df_MC_noHiggs['BDT_selCut']>cut)]['weight'].sum()\n",
    "\n",
    "purity = sig_in_interval*1. / bkg_in_interval\n",
    "\n",
    "print purity\"\"\""
   ]
  },
  {
   "cell_type": "code",
   "execution_count": null,
   "metadata": {
    "collapsed": true
   },
   "outputs": [],
   "source": []
  },
  {
   "cell_type": "code",
   "execution_count": null,
   "metadata": {
    "collapsed": true
   },
   "outputs": [],
   "source": []
  },
  {
   "cell_type": "markdown",
   "metadata": {},
   "source": [
    "### distribution of variable of interest"
   ]
  },
  {
   "cell_type": "code",
   "execution_count": 15,
   "metadata": {
    "collapsed": true
   },
   "outputs": [],
   "source": [
    "def GetHistogram (df, column, binning) :\n",
    "  \n",
    "    return np.histogram(a=df[column],\n",
    "                        bins = binning,\n",
    "                        weights=df['weight'])[0]"
   ]
  },
  {
   "cell_type": "code",
   "execution_count": 16,
   "metadata": {
    "collapsed": true
   },
   "outputs": [],
   "source": [
    "def ensure_dir(file_path):\n",
    "    directory = os.path.dirname(file_path)\n",
    "    if not os.path.exists(directory):\n",
    "        os.makedirs(directory)"
   ]
  },
  {
   "cell_type": "code",
   "execution_count": 43,
   "metadata": {
    "collapsed": false
   },
   "outputs": [],
   "source": [
    "path = '/home/janik/StatMethods/Project/plots/VariableDists/'\n",
    "ensure_dir(file_path=path)\n",
    "variable = 'mmis'\n",
    "x_name = variable\n",
    "x_unit = 'GeV'\n",
    "binning = np.array([50,60,70,80,85,90,95,100,105,110,120,140])\n",
    "binning = np.linspace(50,130,28)\n",
    "#binning = np.linspace(75,100,28)\n",
    "save_path = path+variable"
   ]
  },
  {
   "cell_type": "code",
   "execution_count": 44,
   "metadata": {
    "collapsed": false
   },
   "outputs": [
    {
     "data": {
      "text/plain": [
       "\"bkg = np.zeros(len(binning)-1)\\nfor dataframe in framesMC_NoHiggs :\\n    # do selection cuts    \\n    bkg += GetHistogram(df=dataframe[dataframe['BDT_selCut']>cut],column=variable,binning=binning)\\n\\n    \\nsigModels = [] \\nfor dataframe in framesMC_HiggsModels :\\n    \\n    sigModels.append(GetHistogram(df=dataframe[dataframe['BDT_selCut']>cut],column=variable,binning=binning))\\n    \\n\\ndata_hist = GetHistogram(df=data[data['BDT_selCut']>cut],column=variable,binning=binning)\""
      ]
     },
     "execution_count": 44,
     "metadata": {},
     "output_type": "execute_result"
    }
   ],
   "source": [
    "\"\"\"bkg = np.zeros(len(binning)-1)\n",
    "for dataframe in framesMC_NoHiggs :\n",
    "    # do selection cuts    \n",
    "    bkg += GetHistogram(df=dataframe[dataframe['BDT_selCut']>cut],column=variable,binning=binning)\n",
    "\n",
    "    \n",
    "sigModels = [] \n",
    "for dataframe in framesMC_HiggsModels :\n",
    "    \n",
    "    sigModels.append(GetHistogram(df=dataframe[dataframe['BDT_selCut']>cut],column=variable,binning=binning))\n",
    "    \n",
    "\n",
    "data_hist = GetHistogram(df=data[data['BDT_selCut']>cut],column=variable,binning=binning)\"\"\""
   ]
  },
  {
   "cell_type": "code",
   "execution_count": 45,
   "metadata": {
    "collapsed": false
   },
   "outputs": [],
   "source": [
    "bkg_histos = []\n",
    "sig_histos = []\n",
    "data_histos = []\n",
    "\n",
    "for frame in [bkg_85,bkg_90,bkg_95] :\n",
    "    bkg_histos.append(GetHistogram(df=frame,column=variable,binning=binning))\n",
    "\n",
    "for frame in [sig_85,sig_90,sig_95] :\n",
    "    sig_histos.append(GetHistogram(df=frame,column=variable,binning=binning))\n",
    "\n",
    "for frame in [data_85,data_90,data_95] :\n",
    "    data_histos.append(GetHistogram(df=frame,column=variable,binning=binning))\n",
    "\n",
    "    "
   ]
  },
  {
   "cell_type": "code",
   "execution_count": 47,
   "metadata": {
    "collapsed": false
   },
   "outputs": [
    {
     "data": {
      "image/png": "[encoded data removed]",
      "text/plain": [
       "<matplotlib.figure.Figure at 0x7f338b1b5050>"
      ]
     },
     "metadata": {},
     "output_type": "display_data"
    }
   ],
   "source": [
    "reload(pl)\n",
    "pl.BkgSigHistos(background=bkg_histos,\n",
    "                signals=sig_histos,\n",
    "                data=data_histos,\n",
    "                variable_binning=binning,\n",
    "                x_label=[x_name,x_unit],\n",
    "                savepath=None)#save_path)"
   ]
  },
  {
   "cell_type": "code",
   "execution_count": 48,
   "metadata": {
    "collapsed": false
   },
   "outputs": [
    {
     "data": {
      "text/plain": [
       "'reload(pl)\\npl.BkgSigHistos(background=bkg,signals=sigModels,data=data_hist,variable_binning=binning,\\n                x_label=[x_name,x_unit],savepath=None)#save_path)'"
      ]
     },
     "execution_count": 48,
     "metadata": {},
     "output_type": "execute_result"
    }
   ],
   "source": [
    "\"\"\"reload(pl)\n",
    "pl.BkgSigHistos(background=bkg,signals=sigModels,data=data_hist,variable_binning=binning,\n",
    "                x_label=[x_name,x_unit],savepath=None)#save_path)\"\"\""
   ]
  },
  {
   "cell_type": "markdown",
   "metadata": {},
   "source": [
    "## The Log-likelihood ratio we define to be\n",
    "\n",
    "$$\n",
    "    -2 \\log (Q(m_H)) = 2 s_{tot} - 2 \\sum_{i=1}^{N_{bins}} N_i \\log \\left( 1 + \\frac{s_i(m_H)}{b_i} \\right)\n",
    "$$"
   ]
  },
  {
   "cell_type": "code",
   "execution_count": 49,
   "metadata": {
    "collapsed": false
   },
   "outputs": [
    {
     "data": {
      "text/plain": [
       "<module 'stats' from 'stats.pyc'>"
      ]
     },
     "execution_count": 49,
     "metadata": {},
     "output_type": "execute_result"
    }
   ],
   "source": [
    "import stats as stat\n",
    "reload(stat)"
   ]
  },
  {
   "cell_type": "code",
   "execution_count": 50,
   "metadata": {
    "collapsed": false
   },
   "outputs": [],
   "source": [
    "\"\"\"Nexp = 10000\n",
    "llr_85 = stat.LogLikRatio(background=bkg,signal=sigModels[0],N_experiments=Nexp)\n",
    "llr_90 = stat.LogLikRatio(background=bkg,signal=sigModels[1],N_experiments=Nexp)\n",
    "llr_95 = stat.LogLikRatio(background=bkg,signal=sigModels[2],N_experiments=Nexp)\n",
    "\n",
    "llr_obs = stat.LogLikRatioObserved(background=bkg,signals=sigModels,data=data_hist)\n",
    "\"\"\"\n",
    "\n",
    "Nexp = 10000\n",
    "llr_85 = stat.LogLikRatio(background=bkg_histos[0],signal=sig_histos[0],N_experiments=Nexp)\n",
    "llr_90 = stat.LogLikRatio(background=bkg_histos[1],signal=sig_histos[1],N_experiments=Nexp)\n",
    "llr_95 = stat.LogLikRatio(background=bkg_histos[2],signal=sig_histos[2],N_experiments=Nexp)\n",
    "\n",
    "llr_obs_85 = stat.LogLikRatioObserved(background=bkg_histos[0],signals=sig_histos,data=data_histos[0])[0]\n",
    "llr_obs_90 = stat.LogLikRatioObserved(background=bkg_histos[1],signals=sig_histos,data=data_histos[1])[1]\n",
    "llr_obs_95 = stat.LogLikRatioObserved(background=bkg_histos[2],signals=sig_histos,data=data_histos[2])[2]\n",
    "\n",
    "llr_obs = [llr_obs_85,llr_obs_90,llr_obs_95]"
   ]
  },
  {
   "cell_type": "code",
   "execution_count": 51,
   "metadata": {
    "collapsed": true
   },
   "outputs": [],
   "source": [
    "path = '/home/janik/StatMethods/Project/plots/loglikeliratio/'\n",
    "ensure_dir(file_path=path)\n",
    "save_path = path+variable"
   ]
  },
  {
   "cell_type": "code",
   "execution_count": 52,
   "metadata": {
    "collapsed": false
   },
   "outputs": [
    {
     "name": "stdout",
     "output_type": "stream",
     "text": [
      "[0.13933493201598779, -1.6663199496940955, -0.40486726723988298]\n"
     ]
    }
   ],
   "source": [
    "print llr_obs"
   ]
  },
  {
   "cell_type": "code",
   "execution_count": 126,
   "metadata": {
    "collapsed": false,
    "scrolled": false
   },
   "outputs": [
    {
     "name": "stdout",
     "output_type": "stream",
     "text": [
      "177\n",
      "155\n",
      "182\n"
     ]
    },
    {
     "data": {
      "image/png": "[encoded data removed]",
      "text/plain": [
       "<matplotlib.figure.Figure at 0x7f338b5c5a90>"
      ]
     },
     "metadata": {},
     "output_type": "display_data"
    },
    {
     "name": "stdout",
     "output_type": "stream",
     "text": [
      "[[0.18030000000000002, 0.17349999999999988], [0.083400000000000016, 0.44540000000000024], [0.23359999999999997, 0.46959999999999996]]\n"
     ]
    }
   ],
   "source": [
    "reload(pl)\n",
    "CLlist, Quantiles_b, Quantiles_sPlusb = pl.LogLikRatioPlots([llr_85,llr_90,llr_95],Nbins=300,obs=llr_obs,savepath=None)#save_path)\n",
    "print CLlist"
   ]
  },
  {
   "cell_type": "markdown",
   "metadata": {},
   "source": [
    "$$CL_s = \\frac{CL_{s+b}}{CL_b} = \\frac{CL_{s+b}}{1-(1-CL_b)}$$"
   ]
  },
  {
   "cell_type": "code",
   "execution_count": 127,
   "metadata": {
    "collapsed": false
   },
   "outputs": [
    {
     "name": "stdout",
     "output_type": "stream",
     "text": [
      "[0.21166280346468205, 0.48592624918175897, 0.61273486430062629]\n",
      "Confidence level CL >= \n",
      "     0.788337196535\n",
      "     0.514073750818\n",
      "     0.387265135699\n"
     ]
    }
   ],
   "source": [
    "CLs = [entry[1]/(1-entry[0]) for entry in CLlist]\n",
    "print CLs\n",
    "\n",
    "print \"Confidence level CL >= \"\n",
    "for i in xrange(len(CLs)):\n",
    "    print \"    \", 1 - CLs[i]"
   ]
  },
  {
   "cell_type": "markdown",
   "metadata": {
    "collapsed": true
   },
   "source": [
    "# Quantile plot"
   ]
  },
  {
   "cell_type": "code",
   "execution_count": 128,
   "metadata": {
    "collapsed": false
   },
   "outputs": [
    {
     "name": "stdout",
     "output_type": "stream",
     "text": [
      "[3.2018824094510023, [-0.32081473924533199, 6.4973087743604765], [-3.9571472798350982, 9.5654643554830905]]\n",
      "[1.9902740738800464, [-0.76251431302987172, 4.4849885495171602], [-3.6013273370307246, 6.8076537509724044]]\n",
      "[0.60849629776436664, [-0.91274672266552059, 1.9295757628745314], [-2.6341532984151304, 3.0504916726649736]]\n"
     ]
    }
   ],
   "source": [
    "print Quantiles_b[0]\n",
    "print Quantiles_b[1]\n",
    "print Quantiles_b[2]\n",
    "\n",
    "#print Quantiles_sPlusb"
   ]
  },
  {
   "cell_type": "code",
   "execution_count": 142,
   "metadata": {
    "collapsed": false
   },
   "outputs": [
    {
     "name": "stdout",
     "output_type": "stream",
     "text": [
      "3.20188240945\n"
     ]
    }
   ],
   "source": [
    "print Quantiles_b[:][0][0]"
   ]
  },
  {
   "cell_type": "code",
   "execution_count": 130,
   "metadata": {
    "collapsed": true
   },
   "outputs": [],
   "source": [
    "MHiggs = np.array([85.,90.,95])"
   ]
  },
  {
   "cell_type": "code",
   "execution_count": 161,
   "metadata": {
    "collapsed": false
   },
   "outputs": [
    {
     "data": {
      "image/png": "[encoded data removed]",
      "text/plain": [
       "<matplotlib.figure.Figure at 0x7f3380a7d450>"
      ]
     },
     "metadata": {},
     "output_type": "display_data"
    }
   ],
   "source": [
    "plt.figure(figsize=(9,7))\n",
    "\n",
    "\n",
    "\n",
    "y_b = np.array([Quantiles_b[0][0],Quantiles_b[1][0],Quantiles_b[2][0]])\n",
    "y_b_oneS_lower = np.array([Quantiles_b[0][1][0],Quantiles_b[1][1][0],Quantiles_b[2][1][0]])\n",
    "y_b_oneS_upper = np.array([Quantiles_b[0][1][1],Quantiles_b[1][1][1],Quantiles_b[2][1][1]])\n",
    "\n",
    "\n",
    "plt.plot(MHiggs,y_b,'b--',label='Expected bkg')\n",
    "\n",
    "\n",
    "plt.fill_between(MHiggs, y_b_oneS_lower, y_b_oneS_upper,facecolor='lawngreen',alpha=0.99)\n",
    "\n",
    "\n",
    "\n",
    "\n",
    "plt.plot(MHiggs,[Quantiles_b[0][1][0],Quantiles_b[1][1][0],Quantiles_b[2][1][0]],'y-',color='lawngreen')\n",
    "plt.plot(MHiggs,[Quantiles_b[0][1][1],Quantiles_b[1][1][1],Quantiles_b[2][1][1]],'y-',color='lawngreen')\n",
    "\n",
    "\n",
    "y_b_twoS_lower = np.array([Quantiles_b[0][2][0],Quantiles_b[1][2][0],Quantiles_b[2][2][0]])\n",
    "y_b_twoS_upper = np.array([Quantiles_b[0][2][1],Quantiles_b[1][2][1],Quantiles_b[2][2][1]])\n",
    "\n",
    "plt.fill_between(MHiggs, y_b_twoS_lower, y_b_oneS_lower,facecolor='yellow',alpha=0.9)\n",
    "plt.fill_between(MHiggs, y_b_oneS_upper, y_b_twoS_upper,facecolor='yellow',alpha=0.9)\n",
    "\n",
    "\n",
    "plt.plot(MHiggs,[Quantiles_b[0][2][0],Quantiles_b[1][2][0],Quantiles_b[2][2][0]],'g-',color='yellow')\n",
    "plt.plot(MHiggs,[Quantiles_b[0][2][1],Quantiles_b[1][2][1],Quantiles_b[2][2][1]],'g-',color='yellow')\n",
    "\n",
    "\n",
    "\n",
    "\n",
    "\n",
    "plt.plot(MHiggs,[Quantiles_sPlusb[0][0],Quantiles_sPlusb[1][0],Quantiles_sPlusb[2][0]],'--',label='Expected sig+bkg',\n",
    "        color='brown')\n",
    "\n",
    "\n",
    "plt.plot(MHiggs,llr_obs,'k--',label='observed')\n",
    "\n",
    "\n",
    "\n",
    "plt.xlim(85.,95.)\n",
    "plt.ylim(-6,13)\n",
    "plt.xlabel(r'$m_{H}$ [GeV]')\n",
    "plt.ylabel(r'$-2 \\ln (Q)$')\n",
    "plt.legend()\n",
    "plt.show()"
   ]
  },
  {
   "cell_type": "code",
   "execution_count": null,
   "metadata": {
    "collapsed": true
   },
   "outputs": [],
   "source": []
  },
  {
   "cell_type": "code",
   "execution_count": null,
   "metadata": {
    "collapsed": true
   },
   "outputs": [],
   "source": []
  },
  {
   "cell_type": "code",
   "execution_count": null,
   "metadata": {
    "collapsed": true
   },
   "outputs": [],
   "source": []
  },
  {
   "cell_type": "markdown",
   "metadata": {
    "collapsed": true
   },
   "source": [
    "## stuff to try"
   ]
  },
  {
   "cell_type": "code",
   "execution_count": null,
   "metadata": {
    "collapsed": false
   },
   "outputs": [],
   "source": [
    "b = bkg\n",
    "s = sigModels[0]\n",
    "s_tot = s.sum()\n",
    "\n",
    "llr_b_like = []\n",
    "llr_sPlusb_like = []\n",
    "N_exp = 10000\n",
    "\n",
    "for k in xrange(N_exp) :\n",
    "    N = np.random.poisson(lam=b)\n",
    "    llr_b_like.append(2*s_tot - 2*np.dot(N,np.log(1+s/b)))\n",
    "\n",
    "for k in xrange(N_exp) :\n",
    "    N = np.random.poisson(lam=(s+b))\n",
    "    llr_sPlusb_like.append(2*s_tot - 2*np.dot(N,np.log(1+s/b)))\n",
    "    \n",
    "    \n"
   ]
  },
  {
   "cell_type": "code",
   "execution_count": null,
   "metadata": {
    "collapsed": false
   },
   "outputs": [],
   "source": [
    "plt.hist(llr_b_like,40,color='blue',alpha=0.5,label='bkg-like',normed=True)\n",
    "plt.hist(llr_sPlusb_like,40,color='red',alpha=0.5,label='sig+bkg-like',normed=True)\n",
    "plt.xlabel(r'$-2 \\log (Q)$')\n",
    "plt.ylabel('p.d.f.')\n",
    "plt.legend()\n",
    "plt.show()\n"
   ]
  },
  {
   "cell_type": "code",
   "execution_count": 276,
   "metadata": {
    "collapsed": false
   },
   "outputs": [
    {
     "ename": "KeyError",
     "evalue": "'btag1'",
     "output_type": "error",
     "traceback": [
      "\u001b[0;31m---------------------------------------------------------------------------\u001b[0m",
      "\u001b[0;31mKeyError\u001b[0m                                  Traceback (most recent call last)",
      "\u001b[0;32m<ipython-input-276-e2191d1c8c2f>\u001b[0m in \u001b[0;36m<module>\u001b[0;34m()\u001b[0m\n\u001b[1;32m     10\u001b[0m                          normed=True)[0]\n\u001b[1;32m     11\u001b[0m \u001b[1;33m\u001b[0m\u001b[0m\n\u001b[0;32m---> 12\u001b[0;31m \u001b[0mbkg\u001b[0m \u001b[1;33m=\u001b[0m \u001b[0mnp\u001b[0m\u001b[1;33m.\u001b[0m\u001b[0mzeros\u001b[0m\u001b[1;33m(\u001b[0m\u001b[1;33m(\u001b[0m\u001b[0mlen\u001b[0m\u001b[1;33m(\u001b[0m\u001b[0mvar_dict\u001b[0m\u001b[1;33m[\u001b[0m\u001b[0mvar1\u001b[0m\u001b[1;33m]\u001b[0m\u001b[1;33m[\u001b[0m\u001b[1;34m'binning'\u001b[0m\u001b[1;33m]\u001b[0m\u001b[1;33m)\u001b[0m\u001b[1;33m-\u001b[0m\u001b[1;36m1\u001b[0m\u001b[1;33m,\u001b[0m \u001b[0mlen\u001b[0m\u001b[1;33m(\u001b[0m\u001b[0mvar_dict\u001b[0m\u001b[1;33m[\u001b[0m\u001b[0mvar2\u001b[0m\u001b[1;33m]\u001b[0m\u001b[1;33m[\u001b[0m\u001b[1;34m'binning'\u001b[0m\u001b[1;33m]\u001b[0m\u001b[1;33m)\u001b[0m\u001b[1;33m-\u001b[0m\u001b[1;36m1\u001b[0m\u001b[1;33m)\u001b[0m\u001b[1;33m)\u001b[0m\u001b[1;33m\u001b[0m\u001b[0m\n\u001b[0m\u001b[1;32m     13\u001b[0m \u001b[1;32mfor\u001b[0m \u001b[0mdataframe\u001b[0m \u001b[1;32min\u001b[0m \u001b[0mframesMC_NoHiggs\u001b[0m \u001b[1;33m:\u001b[0m\u001b[1;33m\u001b[0m\u001b[0m\n\u001b[1;32m     14\u001b[0m     bkg += GetHistogram_TwoD(df=dataframe,\n",
      "\u001b[0;31mKeyError\u001b[0m: 'btag1'"
     ]
    }
   ],
   "source": [
    "var1 = 'mvis'\n",
    "var2 = 'btag1'\n",
    "\n",
    "def GetHistogram_TwoD (df, column1, binning1, column2, binning2) :\n",
    "  \n",
    "    return np.histogram2d(df[column1],\n",
    "                        df[column2],\n",
    "                        bins = [binning1,binning2],\n",
    "                        weights=df['weight'],\n",
    "                         normed=True)[0]\n",
    "\n",
    "bkg = np.zeros((len(var_dict[var1]['binning'])-1, len(var_dict[var2]['binning'])-1))\n",
    "for dataframe in framesMC_NoHiggs :\n",
    "    bkg += GetHistogram_TwoD(df=dataframe,\n",
    "                             column1=var1,binning1=var_dict[var1]['binning'],\n",
    "                             column2=var2,binning2=var_dict[var2]['binning'])\n",
    "\n",
    "sigModels = [] \n",
    "for dataframe in framesMC_HiggsModels :\n",
    "    sigModels.append(GetHistogram_TwoD(df=dataframe,\n",
    "                             column1=var1,binning1=var_dict[var1]['binning'],\n",
    "                             column2=var2,binning2=var_dict[var2]['binning']))\n",
    "    \n",
    "\n",
    "data_hist = GetHistogram_TwoD(df=data,\n",
    "                             column1=var1,binning1=var_dict[var1]['binning'],\n",
    "                             column2=var2,binning2=var_dict[var2]['binning'])\n",
    "\n",
    "for dataframe in framesMC_HiggsModels :\n",
    "    plt.hist2d(dataframe[var1],\n",
    "                        dataframe[var2],\n",
    "                        bins = [var_dict[var1]['binning'],var_dict[var2]['binning']],\n",
    "                        weights=dataframe['weight'])\n",
    "    plt.show()\n",
    "for dataframe in framesMC_NoHiggs :\n",
    "    plt.hist2d(dataframe[var1],\n",
    "                        dataframe[var2],\n",
    "                        bins = [var_dict[var1]['binning'],var_dict[var2]['binning']],\n",
    "                        weights=dataframe['weight'])\n",
    "    plt.show()"
   ]
  },
  {
   "cell_type": "code",
   "execution_count": 266,
   "metadata": {
    "collapsed": false
   },
   "outputs": [],
   "source": [
    "Nexp = 10000\n",
    "llr_85 = stat.LogLikRatio_TwoD(background=bkg,signal=sigModels[0],N_experiments=Nexp)\n",
    "llr_90 = stat.LogLikRatio_TwoD(background=bkg,signal=sigModels[1],N_experiments=Nexp)\n",
    "llr_95 = stat.LogLikRatio_TwoD(background=bkg,signal=sigModels[2],N_experiments=Nexp)\n",
    "\n",
    "llr_obs = stat.LogLikRatioObserved(background=bkg,signals=sigModels,data=data_hist)"
   ]
  },
  {
   "cell_type": "code",
   "execution_count": 273,
   "metadata": {
    "collapsed": false
   },
   "outputs": [
    {
     "name": "stdout",
     "output_type": "stream",
     "text": [
      "[[  0.00000000e+00   0.00000000e+00   4.68422706e-06   7.45420492e-04]\n",
      " [  0.00000000e+00   0.00000000e+00   6.86154736e-04   2.89343998e-03]\n",
      " [  0.00000000e+00   1.31592128e-03   4.42380136e-03   1.17387045e-03]\n",
      " [  5.98643192e-04   4.84934104e-03   3.30872325e-03   0.00000000e+00]]\n",
      "[[  0.00000000e+00   0.00000000e+00   1.00857287e-06   3.12657590e-05]\n",
      " [  0.00000000e+00   0.00000000e+00   1.18003026e-04   2.80383258e-04]\n",
      " [  0.00000000e+00   1.85577408e-04   1.51285930e-03   7.66515381e-05]\n",
      " [  1.71457388e-05   8.51235502e-04   2.59203227e-04   0.00000000e+00]]\n"
     ]
    }
   ],
   "source": [
    "#print llr_obs\n",
    "#print llr_85\n",
    "print bkg\n",
    "print sigModels[0]"
   ]
  },
  {
   "cell_type": "code",
   "execution_count": null,
   "metadata": {
    "collapsed": true
   },
   "outputs": [],
   "source": []
  },
  {
   "cell_type": "code",
   "execution_count": null,
   "metadata": {
    "collapsed": true
   },
   "outputs": [],
   "source": []
  },
  {
   "cell_type": "code",
   "execution_count": null,
   "metadata": {
    "collapsed": true
   },
   "outputs": [],
   "source": []
  },
  {
   "cell_type": "code",
   "execution_count": null,
   "metadata": {
    "collapsed": false
   },
   "outputs": [],
   "source": [
    "bkg = GetHistogram(qq,column=variable,binning=binning)"
   ]
  },
  {
   "cell_type": "code",
   "execution_count": null,
   "metadata": {
    "collapsed": false
   },
   "outputs": [],
   "source": [
    "print(len(binning))\n",
    "print(len(bkg))\n",
    "\n",
    "print(binning)\n",
    "print(bkg)\n",
    "binw = binning[1]-binning[0]\n",
    "plt.bar(binning[:-1]+binw/2.,bkg,width=binw)\n",
    "plt.show()"
   ]
  },
  {
   "cell_type": "code",
   "execution_count": null,
   "metadata": {
    "collapsed": true
   },
   "outputs": [],
   "source": []
  },
  {
   "cell_type": "code",
   "execution_count": null,
   "metadata": {
    "collapsed": true
   },
   "outputs": [],
   "source": []
  },
  {
   "cell_type": "code",
   "execution_count": null,
   "metadata": {
    "collapsed": true
   },
   "outputs": [],
   "source": []
  },
  {
   "cell_type": "code",
   "execution_count": null,
   "metadata": {
    "collapsed": false
   },
   "outputs": [],
   "source": [
    "a = qq.groupby(variable)['weight'].sum()\n",
    "\n",
    "plt.hist(a)\n",
    "plt.show()"
   ]
  },
  {
   "cell_type": "code",
   "execution_count": 239,
   "metadata": {
    "collapsed": false
   },
   "outputs": [
    {
     "name": "stdout",
     "output_type": "stream",
     "text": [
      "414\n"
     ]
    }
   ],
   "source": [
    "a = np.array([[1,2],[3,4]])\n",
    "b = np.array([[1,2],[3,100]])\n",
    "print np.sum(a*b)"
   ]
  },
  {
   "cell_type": "code",
   "execution_count": null,
   "metadata": {
    "collapsed": false
   },
   "outputs": [],
   "source": [
    "for col in qq.columns :\n",
    "    print(col)"
   ]
  },
  {
   "cell_type": "code",
   "execution_count": null,
   "metadata": {
    "collapsed": false
   },
   "outputs": [],
   "source": [
    "for col in data :\n",
    "    print(col)"
   ]
  },
  {
   "cell_type": "code",
   "execution_count": null,
   "metadata": {
    "collapsed": true
   },
   "outputs": [],
   "source": []
  }
 ],
 "metadata": {
  "kernelspec": {
   "display_name": "Python 2",
   "language": "python",
   "name": "python2"
  },
  "language_info": {
   "codemirror_mode": {
    "name": "ipython",
    "version": 2
   },
   "file_extension": ".py",
   "mimetype": "text/x-python",
   "name": "python",
   "nbconvert_exporter": "python",
   "pygments_lexer": "ipython2",
   "version": "2.7.13"
  }
 },
 "nbformat": 4,
 "nbformat_minor": 2
}
