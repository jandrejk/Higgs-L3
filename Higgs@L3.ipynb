{
 "cells": [
  {
   "cell_type": "code",
   "execution_count": 1,
   "metadata": {
    "collapsed": true
   },
   "outputs": [],
   "source": [
    "import numpy as np\n",
    "import matplotlib.pyplot as plt\n",
    "import pandas as pd\n",
    "import os\n",
    "\n",
    "import plotting as pl"
   ]
  },
  {
   "cell_type": "markdown",
   "metadata": {},
   "source": [
    "### Read in the data"
   ]
  },
  {
   "cell_type": "code",
   "execution_count": 2,
   "metadata": {
    "collapsed": false
   },
   "outputs": [],
   "source": [
    "data = pd.read_csv('data/higgs_data.csv')\n",
    "\n",
    "higgs_85 = pd.read_csv('data/higgs_higgs_85.csv')\n",
    "higgs_90 = pd.read_csv('data/higgs_higgs_90.csv')\n",
    "higgs_95 = pd.read_csv('data/higgs_higgs_95.csv')\n",
    "eeqq = pd.read_csv('data/higgs_eeqq.csv')\n",
    "qq = pd.read_csv('data/higgs_qq.csv')\n",
    "wen = pd.read_csv('data/higgs_wen.csv')\n",
    "ww = pd.read_csv('data/higgs_ww.csv')\n",
    "zee = pd.read_csv('data/higgs_zee.csv')\n",
    "zz = pd.read_csv('data/higgs_zz.csv')\n",
    "\n",
    "\n",
    "framesMC_NoHiggs = [qq, ww, zz, zee, wen, eeqq]\n",
    "framesMC_NoHiggsNames = ['qq', 'ww', 'zz', 'zee', 'wen', 'eeqq']\n",
    "\n",
    "framesMC_HiggsModels = [higgs_85, higgs_90, higgs_95]\n",
    "framesMC_HiggsModelsNames = ['higgs_85', 'higgs_90', 'higgs_95']\n"
   ]
  },
  {
   "cell_type": "markdown",
   "metadata": {},
   "source": [
    "<img src=\"samples_full.png\"> "
   ]
  },
  {
   "cell_type": "markdown",
   "metadata": {},
   "source": [
    "### Introduce weights in order to rescale all the MC samples to the same luminosity\n",
    "\n",
    "per definition the weight of each measured event (data) is $1$. Thus, we want to rescale the MC to the same ntegrated Luminosity of the data taking which is $L = 176.773 \\ \\mathrm{pb}^{-1}$\n",
    "\n",
    "The weight for each MC sample is:\n",
    "$$ \n",
    "        \\mathrm{weight}_\\mathrm{MC} = L \\cdot  \\frac{\\sigma_\\mathrm{MC} }{N_\\mathrm{MC}}\n",
    "$$"
   ]
  },
  {
   "cell_type": "code",
   "execution_count": 3,
   "metadata": {
    "collapsed": false
   },
   "outputs": [
    {
     "name": "stdout",
     "output_type": "stream",
     "text": [
      "<bound method GradientBoostingClassifier.get_params of GradientBoostingClassifier(criterion='friedman_mse', init=None,\n",
      "              learning_rate=0.01, loss='deviance', max_depth=3,\n",
      "              max_features=None, max_leaf_nodes=None,\n",
      "              min_impurity_split=1e-07, min_samples_leaf=1,\n",
      "              min_samples_split=2, min_weight_fraction_leaf=0.0,\n",
      "              n_estimators=300, presort='auto', random_state=0,\n",
      "              subsample=1.0, verbose=0, warm_start=False)>\n",
      "<bound method GradientBoostingClassifier.get_params of GradientBoostingClassifier(criterion='friedman_mse', init=None,\n",
      "              learning_rate=0.05, loss='deviance', max_depth=3,\n",
      "              max_features=None, max_leaf_nodes=None,\n",
      "              min_impurity_split=1e-07, min_samples_leaf=1,\n",
      "              min_samples_split=2, min_weight_fraction_leaf=0.0,\n",
      "              n_estimators=100, presort='auto', random_state=0,\n",
      "              subsample=1.0, verbose=0, warm_start=False)>\n",
      "<bound method GradientBoostingClassifier.get_params of GradientBoostingClassifier(criterion='friedman_mse', init=None,\n",
      "              learning_rate=0.01, loss='deviance', max_depth=3,\n",
      "              max_features=None, max_leaf_nodes=None,\n",
      "              min_impurity_split=1e-07, min_samples_leaf=1,\n",
      "              min_samples_split=2, min_weight_fraction_leaf=0.0,\n",
      "              n_estimators=300, presort='auto', random_state=0,\n",
      "              subsample=1.0, verbose=0, warm_start=False)>\n"
     ]
    }
   ],
   "source": [
    "# load classifier\n",
    "import cPickle\n",
    "from sklearn.tree import DecisionTreeClassifier\n",
    "\n",
    "with open('BDT_85higgs1.pkl', 'rb') as fid:\n",
    "    BDT_85 = cPickle.load(fid)\n",
    "\n",
    "with open('BDT_90higgs4.pkl', 'rb') as fid:\n",
    "    BDT_90 = cPickle.load(fid)\n",
    "\n",
    "with open('BDT_95higgs3.pkl', 'rb') as fid:\n",
    "    BDT_95 = cPickle.load(fid)\n",
    "    \n",
    "print BDT_85.get_params  \n",
    "print BDT_90.get_params  \n",
    "print BDT_95.get_params  \n"
   ]
  },
  {
   "cell_type": "code",
   "execution_count": 4,
   "metadata": {
    "collapsed": true
   },
   "outputs": [],
   "source": [
    "def PickDiscVar_mH85 (df) :\n",
    "    discriminating_vars = ['btag1','btag2','ucsdbt0','acthm','mvissc','mmis']+['class','weight']\n",
    "    discriminating_vars = ['ucsdbt0','acthm','mvissc','mmis','xmj1','acop']+['class','weight']\n",
    "    discriminating_vars = [u'btag1', u'btag2',\n",
    "       u'ucsdbt0', u'mvis', u'mvissc', u'fmvis', u'fmmis', u'fth1',\n",
    "       u'mmis', u'acthm', u'maxcthj', u'acop', u'maxxov', u'enj1',\n",
    "       u'thj1', u'phj1', u'xmj1', u'enj2', u'thj2', u'phj2', u'xmj2',\n",
    "       u'pho_num', u'pho_ene', u'pho_the', u'pho_phi', u'ele_num', u'ele_ene',\n",
    "       u'ele_the', u'ele_phi', u'muon_num', u'muon_ene', u'muon_the',\n",
    "       u'muon_phi']\n",
    "    return df[discriminating_vars]"
   ]
  },
  {
   "cell_type": "code",
   "execution_count": 5,
   "metadata": {
    "collapsed": true
   },
   "outputs": [],
   "source": [
    "def KillVars (df) :\n",
    "    discriminating_vars = [u'btag1', u'btag2',\n",
    "       u'ucsdbt0', u'mvis', u'mvissc', u'fmvis', u'fmmis', u'fth1',\n",
    "       u'mmis', u'acthm', u'maxcthj', u'acop', u'maxxov', u'enj1',\n",
    "       u'thj1', u'phj1', u'xmj1', u'enj2', u'thj2', u'phj2', u'xmj2',\n",
    "       u'pho_num', u'pho_ene', u'pho_the', u'pho_phi', u'ele_num', u'ele_ene',\n",
    "       u'ele_the', u'ele_phi', u'muon_num', u'muon_ene', u'muon_the',\n",
    "       u'muon_phi']+['weight']\n",
    "    return df[discriminating_vars]"
   ]
  },
  {
   "cell_type": "code",
   "execution_count": 6,
   "metadata": {
    "collapsed": false
   },
   "outputs": [],
   "source": [
    "crossSectionsMC_noHiggs = [102., 16.5, 0.975, 3.35, 2.9, 15600.]\n",
    "NumberMC_noHiggs = [200000., 294500., 196000., 29500., 81786., 5940000.]\n",
    "\n",
    "crossSectionsMC_HiggsModels = [0.094, 0.0667, 0.0333]\n",
    "NumberMC_HiggsModels = [3972., 3973., 3971.]\n",
    "\n",
    "\n",
    "Lum = 176.773\n",
    "\n",
    "\n",
    "weightsMC_noHiggs     = Lum*np.array(crossSectionsMC_noHiggs) / np.array(NumberMC_noHiggs) \n",
    "weightsMC_HiggsModels = Lum*np.array(crossSectionsMC_HiggsModels) / np.array(NumberMC_HiggsModels) \n",
    "\n",
    "\n",
    "#add column 'weight' to data frame of all bkg MC\n",
    "for i, frame in enumerate(framesMC_NoHiggs):\n",
    "    frame[\"weight\"] = weightsMC_noHiggs[i]\n",
    "    frame['BDT_selCut85'] = BDT_85.decision_function(PickDiscVar_mH85(df=frame))\n",
    "    frame['BDT_selCut90'] = BDT_90.decision_function(PickDiscVar_mH85(df=frame))\n",
    "    frame['BDT_selCut95'] = BDT_95.decision_function(PickDiscVar_mH85(df=frame))\n",
    "\n",
    "#add column 'weight' to data frame of all bkg+sig MC\n",
    "for i, frame in enumerate(framesMC_HiggsModels):\n",
    "    frame[\"weight\"] = weightsMC_HiggsModels[i]\n",
    "    frame['BDT_selCut85'] = BDT_85.decision_function(PickDiscVar_mH85(df=frame))\n",
    "    frame['BDT_selCut90'] = BDT_90.decision_function(PickDiscVar_mH85(df=frame))\n",
    "    frame['BDT_selCut95'] = BDT_95.decision_function(PickDiscVar_mH85(df=frame))\n",
    "\n",
    "#add column 'weight'=1 to data \n",
    "data[\"weight\"] = 1\n",
    "data['BDT_selCut85'] = BDT_85.decision_function(PickDiscVar_mH85(df=data))\n",
    "data['BDT_selCut90'] = BDT_90.decision_function(PickDiscVar_mH85(df=data))\n",
    "data['BDT_selCut95'] = BDT_95.decision_function(PickDiscVar_mH85(df=data))\n"
   ]
  },
  {
   "cell_type": "code",
   "execution_count": 7,
   "metadata": {
    "collapsed": true
   },
   "outputs": [],
   "source": [
    "cut_85 = -3.15\n",
    "cut_90 = -2.9\n",
    "cut_95 = -2.9"
   ]
  },
  {
   "cell_type": "code",
   "execution_count": 8,
   "metadata": {
    "collapsed": true
   },
   "outputs": [],
   "source": [
    "df_bkg = pd.concat(framesMC_NoHiggs)"
   ]
  },
  {
   "cell_type": "code",
   "execution_count": null,
   "metadata": {
    "collapsed": true
   },
   "outputs": [],
   "source": []
  },
  {
   "cell_type": "code",
   "execution_count": 9,
   "metadata": {
    "collapsed": true
   },
   "outputs": [],
   "source": [
    "data_85 = KillVars(data[data['BDT_selCut85']>cut_85])\n",
    "data_90 = KillVars(data[data['BDT_selCut90']>cut_90])\n",
    "data_95 = KillVars(data[data['BDT_selCut95']>cut_95])\n",
    "\n",
    "sig_85 = KillVars(framesMC_HiggsModels[0][framesMC_HiggsModels[0]['BDT_selCut85']>cut_85])\n",
    "sig_90 = KillVars(framesMC_HiggsModels[1][framesMC_HiggsModels[1]['BDT_selCut90']>cut_90])\n",
    "sig_95 = KillVars(framesMC_HiggsModels[2][framesMC_HiggsModels[2]['BDT_selCut95']>cut_95])\n",
    "\n",
    "bkg_85 = KillVars(df_bkg[df_bkg['BDT_selCut85']>cut_85])\n",
    "bkg_90 = KillVars(df_bkg[df_bkg['BDT_selCut90']>cut_90])\n",
    "bkg_95 = KillVars(df_bkg[df_bkg['BDT_selCut95']>cut_95])\n"
   ]
  },
  {
   "cell_type": "code",
   "execution_count": 10,
   "metadata": {
    "collapsed": false
   },
   "outputs": [
    {
     "name": "stdout",
     "output_type": "stream",
     "text": [
      "0.397343881101\n",
      "27\n"
     ]
    }
   ],
   "source": [
    "# purity in range 90 +- 5 GeV\n",
    "\n",
    "sig_in_interval = sig_90[(sig_90['mmis']<95)&(sig_90['mmis']>85)]['weight'].sum()\n",
    "bkg_in_interval = bkg_90[(bkg_90['mmis']<95)&(bkg_90['mmis']>85)]['weight'].sum()\n",
    "\n",
    "purity = sig_in_interval*1. / bkg_in_interval\n",
    "\n",
    "print purity\n",
    "print len(data_90['weight'])"
   ]
  },
  {
   "cell_type": "code",
   "execution_count": 18,
   "metadata": {
    "collapsed": true
   },
   "outputs": [],
   "source": [
    "data_85.to_csv('data_85')\n",
    "data_90.to_csv('data_90')\n",
    "data_95.to_csv('data_95')\n",
    "\n",
    "sig_85.to_csv('sig_85')\n",
    "sig_90.to_csv('sig_90')\n",
    "sig_95.to_csv('sig_95')\n",
    "\n",
    "bkg_85.to_csv('bkg_85')\n",
    "bkg_90.to_csv('bkg_90')\n",
    "bkg_95.to_csv('bkg_95')"
   ]
  },
  {
   "cell_type": "markdown",
   "metadata": {},
   "source": [
    "### distribution of variable of interest"
   ]
  },
  {
   "cell_type": "code",
   "execution_count": 11,
   "metadata": {
    "collapsed": true
   },
   "outputs": [],
   "source": [
    "def GetHistogram (df, column, binning) :\n",
    "  \n",
    "    return np.histogram(a=df[column],\n",
    "                        bins = binning,\n",
    "                        weights=df['weight'])[0]"
   ]
  },
  {
   "cell_type": "code",
   "execution_count": 12,
   "metadata": {
    "collapsed": true
   },
   "outputs": [],
   "source": [
    "def ensure_dir(file_path):\n",
    "    directory = os.path.dirname(file_path)\n",
    "    if not os.path.exists(directory):\n",
    "        os.makedirs(directory)"
   ]
  },
  {
   "cell_type": "code",
   "execution_count": 24,
   "metadata": {
    "collapsed": false
   },
   "outputs": [],
   "source": [
    "path = '/home/janik/StatMethods/Project/plots/VariableDists/'\n",
    "ensure_dir(file_path=path)\n",
    "variable = 'mmis'\n",
    "x_name = r'missing mass $m_\\mathrm{mis}$ '\n",
    "x_unit = r'GeV/$c^2$'\n",
    "binning = np.array([50,60,70,80,85,90,95,100,105,110,120,140])\n",
    "binning = np.linspace(50,130,28)\n",
    "#binning = np.linspace(75,100,28)\n",
    "save_path = path+variable"
   ]
  },
  {
   "cell_type": "code",
   "execution_count": 25,
   "metadata": {
    "collapsed": false
   },
   "outputs": [],
   "source": [
    "bkg_histos = []\n",
    "sig_histos = []\n",
    "data_histos = []\n",
    "\n",
    "for frame in [bkg_85,bkg_90,bkg_95] :\n",
    "    bkg_histos.append(GetHistogram(df=frame,column=variable,binning=binning))\n",
    "\n",
    "for frame in [sig_85,sig_90,sig_95] :\n",
    "    sig_histos.append(GetHistogram(df=frame,column=variable,binning=binning))\n",
    "\n",
    "for frame in [data_85,data_90,data_95] :\n",
    "    data_histos.append(GetHistogram(df=frame,column=variable,binning=binning))\n",
    "\n",
    "    "
   ]
  },
  {
   "cell_type": "code",
   "execution_count": 69,
   "metadata": {
    "collapsed": false
   },
   "outputs": [
    {
     "data": {
      "image/png": "[encoded data removed]",
      "text/plain": [
       "<matplotlib.figure.Figure at 0x7fa03df0da50>"
      ]
     },
     "metadata": {},
     "output_type": "display_data"
    }
   ],
   "source": [
    "reload(pl)\n",
    "pl.BkgSigHistos(background=bkg_histos,\n",
    "                signals=sig_histos,\n",
    "                data=data_histos,\n",
    "                variable_binning=binning,\n",
    "                x_label=[x_name,x_unit],\n",
    "                savepath=None)#save_path)"
   ]
  },
  {
   "cell_type": "markdown",
   "metadata": {},
   "source": [
    "## The Log-likelihood ratio we define to be\n",
    "\n",
    "$$\n",
    "    -2 \\log (Q(m_H)) = 2 s_{tot} - 2 \\sum_{i=1}^{N_{bins}} N_i \\log \\left( 1 + \\frac{s_i(m_H)}{b_i} \\right)\n",
    "$$"
   ]
  },
  {
   "cell_type": "code",
   "execution_count": 27,
   "metadata": {
    "collapsed": false
   },
   "outputs": [
    {
     "data": {
      "text/plain": [
       "<module 'stats' from 'stats.pyc'>"
      ]
     },
     "execution_count": 27,
     "metadata": {},
     "output_type": "execute_result"
    }
   ],
   "source": [
    "import stats as stat\n",
    "reload(stat)"
   ]
  },
  {
   "cell_type": "code",
   "execution_count": 28,
   "metadata": {
    "collapsed": false
   },
   "outputs": [],
   "source": [
    "\"\"\"Nexp = 10000\n",
    "llr_85 = stat.LogLikRatio(background=bkg,signal=sigModels[0],N_experiments=Nexp)\n",
    "llr_90 = stat.LogLikRatio(background=bkg,signal=sigModels[1],N_experiments=Nexp)\n",
    "llr_95 = stat.LogLikRatio(background=bkg,signal=sigModels[2],N_experiments=Nexp)\n",
    "\n",
    "llr_obs = stat.LogLikRatioObserved(background=bkg,signals=sigModels,data=data_hist)\n",
    "\"\"\"\n",
    "\n",
    "Nexp = 100000\n",
    "llr_85 = stat.LogLikRatio(background=bkg_histos[0],signal=sig_histos[0],N_experiments=Nexp)\n",
    "llr_90 = stat.LogLikRatio(background=bkg_histos[1],signal=sig_histos[1],N_experiments=Nexp)\n",
    "llr_95 = stat.LogLikRatio(background=bkg_histos[2],signal=sig_histos[2],N_experiments=Nexp)\n",
    "\n",
    "llr_obs_85 = stat.LogLikRatioObserved(background=bkg_histos[0],signals=sig_histos,data=data_histos[0])[0]\n",
    "llr_obs_90 = stat.LogLikRatioObserved(background=bkg_histos[1],signals=sig_histos,data=data_histos[1])[1]\n",
    "llr_obs_95 = stat.LogLikRatioObserved(background=bkg_histos[2],signals=sig_histos,data=data_histos[2])[2]\n",
    "\n",
    "llr_obs = [llr_obs_85,llr_obs_90,llr_obs_95]"
   ]
  },
  {
   "cell_type": "code",
   "execution_count": 29,
   "metadata": {
    "collapsed": true
   },
   "outputs": [],
   "source": [
    "path = '/home/janik/StatMethods/Project/plots/loglikeliratio/'\n",
    "ensure_dir(file_path=path)\n",
    "save_path = path+variable"
   ]
  },
  {
   "cell_type": "code",
   "execution_count": 30,
   "metadata": {
    "collapsed": false
   },
   "outputs": [
    {
     "name": "stdout",
     "output_type": "stream",
     "text": [
      "[0.13933493201598779, -1.6663199496940955, -0.40486726723988298]\n"
     ]
    }
   ],
   "source": [
    "print llr_obs"
   ]
  },
  {
   "cell_type": "code",
   "execution_count": 34,
   "metadata": {
    "collapsed": false,
    "scrolled": false
   },
   "outputs": [
    {
     "name": "stdout",
     "output_type": "stream",
     "text": [
      "196\n",
      "169\n",
      "200\n",
      "[[0.16773999999999997, 0.17810000000000004], [0.084769999999999998, 0.45440000000000019], [0.23350000000000004, 0.47686999999999991]]\n"
     ]
    }
   ],
   "source": [
    "reload(pl)\n",
    "CLlist, Quantiles_b, Quantiles_sPlusb = pl.LogLikRatioPlots([llr_85,llr_90,llr_95],\n",
    "                                                            Nbins=300,obs=llr_obs,savepath=save_path)\n",
    "print CLlist"
   ]
  },
  {
   "cell_type": "markdown",
   "metadata": {},
   "source": [
    "$$CL_s = \\frac{CL_{s+b}}{CL_b} = \\frac{CL_{s+b}}{1-(1-CL_b)}$$"
   ]
  },
  {
   "cell_type": "code",
   "execution_count": 35,
   "metadata": {
    "collapsed": false
   },
   "outputs": [
    {
     "name": "stdout",
     "output_type": "stream",
     "text": [
      "[0.21399562636676042, 0.49648722179124394, 0.62213959556425302]\n",
      "Confidence level CL >= \n",
      "     0.786004373633\n",
      "     0.503512778209\n",
      "     0.377860404436\n"
     ]
    }
   ],
   "source": [
    "CLs = [entry[1]/(1-entry[0]) for entry in CLlist]\n",
    "print CLs\n",
    "\n",
    "print \"Confidence level CL >= \"\n",
    "for i in xrange(len(CLs)):\n",
    "    print \"    \", 1 - CLs[i]"
   ]
  },
  {
   "cell_type": "markdown",
   "metadata": {
    "collapsed": true
   },
   "source": [
    "# Quantile plot"
   ]
  },
  {
   "cell_type": "code",
   "execution_count": 36,
   "metadata": {
    "collapsed": false
   },
   "outputs": [
    {
     "name": "stdout",
     "output_type": "stream",
     "text": [
      "[3.2402296383431661, [-0.23339013601329839, 6.5691152554347809], [-3.9964782248994695, 9.6085325579966891]]\n",
      "[1.9159424371956497, [-0.788795691587449, 4.5240827756650646], [-3.7833271913115905, 6.8424297431934313]]\n",
      "[0.60504462614623478, [-0.91035418047696481, 1.9310185819415331], [-2.6625340506350401, 3.0202114742019575]]\n"
     ]
    }
   ],
   "source": [
    "print Quantiles_b[0]\n",
    "print Quantiles_b[1]\n",
    "print Quantiles_b[2]\n",
    "\n",
    "#print Quantiles_sPlusb"
   ]
  },
  {
   "cell_type": "code",
   "execution_count": 37,
   "metadata": {
    "collapsed": false
   },
   "outputs": [
    {
     "name": "stdout",
     "output_type": "stream",
     "text": [
      "3.24022963834\n"
     ]
    }
   ],
   "source": [
    "print Quantiles_b[:][0][0]"
   ]
  },
  {
   "cell_type": "code",
   "execution_count": 38,
   "metadata": {
    "collapsed": true
   },
   "outputs": [],
   "source": [
    "MHiggs = np.array([85.,90.,95])"
   ]
  },
  {
   "cell_type": "code",
   "execution_count": 43,
   "metadata": {
    "collapsed": true
   },
   "outputs": [],
   "source": [
    "Quantiles_b = [[4.17450166378066, [0.36682136305160284, 7.6648752727822966], [-3.9168189752685834, 10.837942190056509]], [2.5979840592736423, [-0.46927828916865977, 5.3244394801112449], [-3.9909498744172254, 7.7100879733441445]], [0.70195337492436138, [-0.90642270726311835, 2.0884844802583942], [-2.7921050105174032, 3.2531706087389818]]]\n",
    "Quantiles_sPlusb = [[-5.3446990880419776, [-10.738912847408141, -0.42644536626695029], [-16.609086644365437, 4.015848317916948]], [-3.0821314008046912, [-6.9446099136579615, 0.5531424936454421], [-11.261497663317497, 3.8476094604908759]], [-0.68457773040967318, [-2.6257212778773198, 0.9792595959911683], [-4.8441710464117724, 2.4212519455385628]]]"
   ]
  },
  {
   "cell_type": "code",
   "execution_count": 44,
   "metadata": {
    "collapsed": false
   },
   "outputs": [
    {
     "data": {
      "image/png": "[encoded data removed]",
      "text/plain": [
       "<matplotlib.figure.Figure at 0x7fa02fdae1d0>"
      ]
     },
     "metadata": {},
     "output_type": "display_data"
    }
   ],
   "source": [
    "plt.figure(figsize=(9,7))\n",
    "\n",
    "\n",
    "\n",
    "y_b = np.array([Quantiles_b[0][0],Quantiles_b[1][0],Quantiles_b[2][0]])\n",
    "y_b_oneS_lower = np.array([Quantiles_b[0][1][0],Quantiles_b[1][1][0],Quantiles_b[2][1][0]])\n",
    "y_b_oneS_upper = np.array([Quantiles_b[0][1][1],Quantiles_b[1][1][1],Quantiles_b[2][1][1]])\n",
    "\n",
    "\n",
    "plt.plot(MHiggs,y_b,'b--',label='expected bkg',linewidth=3)\n",
    "\n",
    "\n",
    "plt.fill_between(MHiggs, y_b_oneS_lower, y_b_oneS_upper,facecolor='lawngreen',alpha=0.99)\n",
    "\n",
    "\n",
    "\n",
    "\n",
    "#plt.plot(MHiggs,[Quantiles_b[0][1][0],Quantiles_b[1][1][0],Quantiles_b[2][1][0]],'y-',color='lawngreen')\n",
    "#plt.plot(MHiggs,[Quantiles_b[0][1][1],Quantiles_b[1][1][1],Quantiles_b[2][1][1]],'y-',color='lawngreen')\n",
    "\n",
    "\n",
    "y_b_twoS_lower = np.array([Quantiles_b[0][2][0],Quantiles_b[1][2][0],Quantiles_b[2][2][0]])\n",
    "y_b_twoS_upper = np.array([Quantiles_b[0][2][1],Quantiles_b[1][2][1],Quantiles_b[2][2][1]])\n",
    "\n",
    "plt.fill_between(MHiggs, y_b_twoS_lower, y_b_oneS_lower,facecolor='yellow',alpha=0.9)\n",
    "plt.fill_between(MHiggs, y_b_oneS_upper, y_b_twoS_upper,facecolor='yellow',alpha=0.9)\n",
    "\n",
    "\n",
    "#plt.plot(MHiggs,[Quantiles_b[0][2][0],Quantiles_b[1][2][0],Quantiles_b[2][2][0]],'g-',color='yellow')\n",
    "#plt.plot(MHiggs,[Quantiles_b[0][2][1],Quantiles_b[1][2][1],Quantiles_b[2][2][1]],'g-',color='yellow')\n",
    "\n",
    "\n",
    "\n",
    "\n",
    "\n",
    "plt.plot(MHiggs,[Quantiles_sPlusb[0][0],Quantiles_sPlusb[1][0],Quantiles_sPlusb[2][0]],'-.',label='expected sig+bkg',\n",
    "        color='brown',linewidth=3)\n",
    "\n",
    "\n",
    "plt.plot(MHiggs,llr_obs,'r-',label='observed',linewidth=3)\n",
    "\n",
    "plt.hlines(0,85,95,linewidth=1)\n",
    "\n",
    "plt.xlim(85.,95.)\n",
    "plt.ylim(-6,13)\n",
    "plt.xlabel(r'$m_{H}$ [GeV]',fontsize=14)\n",
    "plt.ylabel(r'$-2 \\ln (Q)$',fontsize=14)\n",
    "plt.legend(fontsize=14)\n",
    "plt.savefig(\"./plots/quantile_plot_2D\")\n",
    "plt.show()"
   ]
  },
  {
   "cell_type": "markdown",
   "metadata": {
    "collapsed": true
   },
   "source": [
    "# 1 - $CL_b$ plots"
   ]
  },
  {
   "cell_type": "code",
   "execution_count": 45,
   "metadata": {
    "collapsed": false
   },
   "outputs": [],
   "source": [
    "def GetCLOneMinusb (array, cut) :\n",
    "    hist, binning = np.histogram(array,bins=300)\n",
    "    hist = hist / (1.*len(array))\n",
    "     \n",
    "    \n",
    "    OneMinusCLb = []\n",
    "    for c in cut :\n",
    "        try :\n",
    "            pos =  np.where(binning <= c)[0][-1]\n",
    "            OneMinusCLb.append(sum(hist[:pos]))\n",
    "        except :\n",
    "            OneMinusCLb.append(0)\n",
    "            \n",
    "    return OneMinusCLb\n",
    "    \n",
    "    "
   ]
  },
  {
   "cell_type": "code",
   "execution_count": 47,
   "metadata": {
    "collapsed": false
   },
   "outputs": [],
   "source": [
    "N_b_pseudo_85 = [] \n",
    "N_pseudo_exp = 10000\n",
    "N_sigPlusbkg_pseudo_85 = []\n",
    "N_sigPlusbkg_pseudo_90 = []\n",
    "N_sigPlusbkg_pseudo_95 = []\n",
    "\n",
    "for i in xrange(N_pseudo_exp) :\n",
    "    N_b_pseudo_85.append(np.random.poisson(lam=bkg_histos[0]))\n",
    "    \n",
    "    N_sigPlusbkg_pseudo_85.append(np.random.poisson(lam=sig_histos[0]+bkg_histos[0]))\n",
    "    N_sigPlusbkg_pseudo_90.append(np.random.poisson(lam=sig_histos[1]+bkg_histos[1]))\n",
    "    N_sigPlusbkg_pseudo_95.append(np.random.poisson(lam=sig_histos[2]+bkg_histos[2]))\n",
    "\n",
    "    "
   ]
  },
  {
   "cell_type": "code",
   "execution_count": 48,
   "metadata": {
    "collapsed": false
   },
   "outputs": [],
   "source": [
    "llr_Pseudo_obs_85 = stat.LogLikRatioObserved(background=bkg_histos[0],signals=sig_histos,data=N_b_pseudo_85)[0]\n",
    "\n",
    "\n",
    "llr_Pseudo_obs_sigPlusbkg_85 = stat.LogLikRatioObserved(background=bkg_histos[0],\n",
    "                                                    signals=sig_histos,\n",
    "                                                    data=N_sigPlusbkg_pseudo_85)[0]\n",
    "\n",
    "llr_Pseudo_obs_sigPlusbkg_90 = stat.LogLikRatioObserved(background=bkg_histos[1],\n",
    "                                                    signals=sig_histos,\n",
    "                                                    data=N_sigPlusbkg_pseudo_90)[1]\n",
    "\n",
    "llr_Pseudo_obs_sigPlusbkg_95 = stat.LogLikRatioObserved(background=bkg_histos[2],\n",
    "                                                    signals=sig_histos,\n",
    "                                                    data=N_sigPlusbkg_pseudo_95)[2]\n",
    "\n"
   ]
  },
  {
   "cell_type": "code",
   "execution_count": 49,
   "metadata": {
    "collapsed": false,
    "scrolled": false
   },
   "outputs": [],
   "source": [
    "#CL_omb = GetCLOneMinusb(array=llr_85[0],cut=llr_Pseudo_obs_85) \n",
    "\n",
    "CL_OneMinusCLb_sigPlusbkg_85 = GetCLOneMinusb(array=llr_85[0],cut=llr_Pseudo_obs_sigPlusbkg_85)\n",
    "CL_OneMinusCLb_sigPlusbkg_90 = GetCLOneMinusb(array=llr_90[0],cut=llr_Pseudo_obs_sigPlusbkg_90)\n",
    "CL_OneMinusCLb_sigPlusbkg_95 = GetCLOneMinusb(array=llr_95[0],cut=llr_Pseudo_obs_sigPlusbkg_95)\n"
   ]
  },
  {
   "cell_type": "code",
   "execution_count": 54,
   "metadata": {
    "collapsed": false
   },
   "outputs": [],
   "source": [
    "mean_85 = np.mean(CL_OneMinusCLb_sigPlusbkg_85)\n",
    "mean_90 = np.mean(CL_OneMinusCLb_sigPlusbkg_90)\n",
    "mean_95 = np.mean(CL_OneMinusCLb_sigPlusbkg_95)\n"
   ]
  },
  {
   "cell_type": "code",
   "execution_count": 85,
   "metadata": {
    "collapsed": false,
    "scrolled": false
   },
   "outputs": [
    {
     "data": {
      "image/png": "[encoded data removed]",
      "text/plain": [
       "<matplotlib.figure.Figure at 0x7fa039967a50>"
      ]
     },
     "metadata": {},
     "output_type": "display_data"
    }
   ],
   "source": [
    "plt.figure(figsize=(9,6))\n",
    "\n",
    "plt.plot(MHiggs,[mean_85,mean_90,mean_95],'-.',color='brown',label='expected sig+bkg',linewidth=3)\n",
    "plt.plot(MHiggs,[0.5,0.5,0.5],'--',color='blue',label='expected bkg',linewidth=3)\n",
    "plt.plot(MHiggs,[CLlist[0][0],CLlist[1][0],CLlist[2][0]],'r-',label='observed',linewidth=3)\n",
    "\n",
    "plt.hlines(0.16,85,95,color='k',linewidth=1)\n",
    "plt.text(95,0.16,r'$1 \\sigma$',fontsize=14)\n",
    "plt.hlines(0.023,85,95,color='k',linewidth=1)\n",
    "plt.text(95,0.023,r'$2 \\sigma$',fontsize=14)\n",
    "plt.hlines(1.35*10**(-3),85,95,color='k',linewidth=1)\n",
    "plt.text(95,1.35*10**(-3),r'$3 \\sigma$',fontsize=14)\n",
    "\n",
    "plt.semilogy()\n",
    "plt.xlim(85,95)\n",
    "plt.legend(fontsize=14,loc='best')\n",
    "plt.xlabel(r'$m_{H}$ [GeV]',fontsize=14)\n",
    "plt.ylabel(r'1 - CL${}_\\mathrm{b}$',fontsize=14)\n",
    "\n",
    "plt.savefig(\"./plots/OneMinusCLb_plot\")\n",
    "\n",
    "\n",
    "plt.show()"
   ]
  },
  {
   "cell_type": "code",
   "execution_count": null,
   "metadata": {
    "collapsed": true
   },
   "outputs": [],
   "source": []
  }
 ],
 "metadata": {
  "kernelspec": {
   "display_name": "Python 2",
   "language": "python",
   "name": "python2"
  },
  "language_info": {
   "codemirror_mode": {
    "name": "ipython",
    "version": 2
   },
   "file_extension": ".py",
   "mimetype": "text/x-python",
   "name": "python",
   "nbconvert_exporter": "python",
   "pygments_lexer": "ipython2",
   "version": "2.7.13"
  }
 },
 "nbformat": 4,
 "nbformat_minor": 2
}
