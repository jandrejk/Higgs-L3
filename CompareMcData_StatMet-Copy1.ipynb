{
 "cells": [
  {
   "cell_type": "code",
   "execution_count": 1,
   "metadata": {
    "collapsed": true
   },
   "outputs": [],
   "source": [
    "import numpy as np\n",
    "import matplotlib.pyplot as plt\n",
    "import pandas as pd\n",
    "import os\n",
    "import ipywidgets as widgets\n",
    "from ipywidgets import interactive, interact, fixed, interact_manual\n",
    "from IPython.display import display, clear_output"
   ]
  },
  {
   "cell_type": "markdown",
   "metadata": {},
   "source": [
    "### Reading in the data files"
   ]
  },
  {
   "cell_type": "code",
   "execution_count": 2,
   "metadata": {
    "collapsed": false
   },
   "outputs": [],
   "source": [
    "# data file\n",
    "data = pd.read_csv('data/higgs_data.csv')\n",
    "\n",
    "# Higgs MC signal models\n",
    "higgs_85 = pd.read_csv('data/higgs_higgs_85.csv')\n",
    "higgs_90 = pd.read_csv('data/higgs_higgs_90.csv')\n",
    "higgs_95 = pd.read_csv('data/higgs_higgs_95.csv')\n",
    "\n",
    "# Background MC model\n",
    "qq = pd.read_csv('data/higgs_qq.csv') # qq \n",
    "ww = pd.read_csv('data/higgs_ww.csv') # W+ W-\n",
    "zz = pd.read_csv('data/higgs_zz.csv') # Z Z\n",
    "zee = pd.read_csv('data/higgs_zee.csv') # Z ee\n",
    "wen = pd.read_csv('data/higgs_wen.csv') # qq electron neutrino\n",
    "eeqq = pd.read_csv('data/higgs_eeqq.csv') # two photon collisions\n",
    "\n",
    "\n",
    "framesMcNoHiggs = [qq, ww, zz, zee, wen, eeqq]\n",
    "framesMcNoHiggsNames = ['qq', r'$W^+ W^-$', 'ZZ', \n",
    "                        'Zee', r'$W e \\nu$', r'$2 \\gamma$ col']\n",
    "\n",
    "framesListMc = framesMcNoHiggs + [higgs_85, higgs_90, higgs_95]\n",
    "framesListMcNames = framesMcNoHiggsNames + ['higgs_85', 'higgs_90', 'higgs_95']"
   ]
  },
  {
   "cell_type": "markdown",
   "metadata": {},
   "source": [
    "### Associate weights with the MC generated data"
   ]
  },
  {
   "cell_type": "code",
   "execution_count": 3,
   "metadata": {
    "collapsed": false
   },
   "outputs": [],
   "source": [
    "crossSectionsMc = [102., 16.5, 0.975, 3.35, 2.9, 15600., 0.094, 0.0667, 0.0333]\n",
    "NumberEntriesMc = [len(frame['encm']) for frame in framesListMc]\n",
    "\n",
    "NumberMc = [200000., 294500, 196000, 29500, 81786, 5940000, 3972, 3973, 3971]\n",
    "Lum = 176.773\n",
    "\n",
    "weights = Lum*np.array(crossSectionsMc) / np.array(NumberMc) \n",
    "\n",
    "for i, frame in enumerate(framesListMc):\n",
    "    frame[\"weight\"] = weights[i]\n",
    "data[\"weight\"] = 1\n",
    "\n",
    "Ndata = len(data['encm'])"
   ]
  },
  {
   "cell_type": "code",
   "execution_count": 4,
   "metadata": {
    "collapsed": false
   },
   "outputs": [
    {
     "data": {
      "text/plain": [
       "659.45883336774511"
      ]
     },
     "execution_count": 4,
     "metadata": {},
     "output_type": "execute_result"
    }
   ],
   "source": [
    "sum(np.array(NumberEntriesMc[:6])*weights[:6])"
   ]
  },
  {
   "cell_type": "code",
   "execution_count": 5,
   "metadata": {
    "collapsed": false
   },
   "outputs": [
    {
     "data": {
      "text/plain": [
       "array([ 273.07716267,  261.38874283,   31.6321755 ,    4.65721951,\n",
       "         49.24208538,   39.46144747,   14.02710667,   10.08135129,\n",
       "          4.95708707])"
      ]
     },
     "execution_count": 5,
     "metadata": {},
     "output_type": "execute_result"
    }
   ],
   "source": [
    "np.array(NumberEntriesMc)*weights"
   ]
  },
  {
   "cell_type": "code",
   "execution_count": 6,
   "metadata": {
    "collapsed": false
   },
   "outputs": [
    {
     "data": {
      "text/plain": [
       "188.64189391575664"
      ]
     },
     "execution_count": 6,
     "metadata": {},
     "output_type": "execute_result"
    }
   ],
   "source": [
    "sum(data['encm'])/len(data['encm'])"
   ]
  },
  {
   "cell_type": "code",
   "execution_count": 7,
   "metadata": {
    "collapsed": false
   },
   "outputs": [
    {
     "data": {
      "text/plain": [
       "188.98910197226905"
      ]
     },
     "execution_count": 7,
     "metadata": {},
     "output_type": "execute_result"
    }
   ],
   "source": [
    "sum([sum(frame['encm']) for frame in framesListMc])/sum(NumberEntriesMc)"
   ]
  },
  {
   "cell_type": "markdown",
   "metadata": {},
   "source": [
    "### Widget that decides which higgs we want to take into account"
   ]
  },
  {
   "cell_type": "code",
   "execution_count": 8,
   "metadata": {
    "collapsed": false
   },
   "outputs": [],
   "source": [
    "l = len(framesMcNoHiggs)\n",
    "\n",
    "higgsDict = {\n",
    "    'No higgs': 0, #[[],[],[]],\n",
    "    '85 GeV': l, #[[higgs_85], ['higgs_85'], [weights[len(framesMcNoHiggs)-1]]],\n",
    "    '90 GeV': l+1, #[[higgs_90], ['higgs_90'], [weights[len(framesMcNoHiggs)]]],\n",
    "    '95 GeV': l+2, #[[higgs_95], ['higgs_95'], [weights[len(framesMcNoHiggs)+1]]]\n",
    "    }\n",
    "\n",
    "widHiggs = widgets.Dropdown(\n",
    "    options=higgsDict,\n",
    "    description='higgs mass:',\n",
    ")\n",
    "\n",
    "#frames = framesMcNoHiggs+[]\n",
    "#names = framesMcNoHiggsNames+[]\n",
    "#frameWeights = weights[:len(framesMcNoHiggs)]\n",
    "\n",
    "def createFrames(index):\n",
    "    global frames, names, NMc\n",
    "    if index > 0:\n",
    "        frames = framesMcNoHiggs + [framesListMc[index]]\n",
    "        names = framesMcNoHiggsNames + [framesListMcNames[index]]\n",
    "    else:\n",
    "        frames = framesMcNoHiggs\n",
    "        names = framesMcNoHiggsNames\n",
    "    NMc = sum([len(frame['encm'])*frame['weight'][0] for frame in frames])\n",
    "    return None\n",
    "\n",
    "dataFrameObject = interactive(createFrames, index=widHiggs)"
   ]
  },
  {
   "cell_type": "markdown",
   "metadata": {},
   "source": [
    "### Build the histogram"
   ]
  },
  {
   "cell_type": "code",
   "execution_count": 9,
   "metadata": {
    "collapsed": false,
    "scrolled": false
   },
   "outputs": [],
   "source": [
    "def buildHist (var,Nbins):\n",
    "    plt.figure(figsize=(10,8))\n",
    "    bins = plt.hist([frame[var] for frame in frames], weights=[frame[\"weight\"] for frame in frames], \n",
    "                    bins=Nbins, stacked=True, alpha=0.5, label=names)[-2]\n",
    "    dataCounts, dataBins = np.histogram(data[var], bins)\n",
    "    datayErr = np.sqrt(dataCounts)\n",
    "    plt.errorbar((dataBins[1:]+dataBins[:-1])/2., dataCounts, yerr =datayErr, label='data', ecolor='red',marker='s', linestyle='')\n",
    "    plt.legend()\n",
    "    plt.xlabel('counts')\n",
    "    plt.ylabel('%s' %var)\n",
    "    plt.title('%i data points and %.1f Mc (weighted) points' %(Ndata,NMc))\n",
    "    plt.show()"
   ]
  },
  {
   "cell_type": "markdown",
   "metadata": {},
   "source": [
    "## Show Widgets"
   ]
  },
  {
   "cell_type": "code",
   "execution_count": 10,
   "metadata": {
    "collapsed": false
   },
   "outputs": [
    {
     "data": {
      "image/png": "[encoded data removed]",
      "text/plain": [
       "<matplotlib.figure.Figure at 0x7f36720c0f90>"
      ]
     },
     "metadata": {},
     "output_type": "display_data"
    }
   ],
   "source": [
    "display(dataFrameObject)\n",
    "interact_manual(buildHist,var=dict(zip(data.columns.values,data.columns.values)),Nbins=(10,50), alpha=.2)"
   ]
  },
  {
   "cell_type": "markdown",
   "metadata": {},
   "source": [
    "# Try stuff"
   ]
  },
  {
   "cell_type": "code",
   "execution_count": 11,
   "metadata": {
    "collapsed": false
   },
   "outputs": [
    {
     "data": {
      "text/plain": [
       "\"columnsDict = {}\\nfor i,frame in enumerate(framesList):\\n    columnsDict[framesNamesList[i]] = frame.columns\\n#pd.DataFrame.from_dict(columnsDict, orient='columns')\\n\\n#data['encm']\""
      ]
     },
     "execution_count": 11,
     "metadata": {},
     "output_type": "execute_result"
    }
   ],
   "source": [
    "\n",
    "\"\"\"columnsDict = {}\n",
    "for i,frame in enumerate(framesList):\n",
    "    columnsDict[framesNamesList[i]] = frame.columns\n",
    "#pd.DataFrame.from_dict(columnsDict, orient='columns')\n",
    "\n",
    "#data['encm']\"\"\""
   ]
  },
  {
   "cell_type": "code",
   "execution_count": null,
   "metadata": {
    "collapsed": true
   },
   "outputs": [],
   "source": []
  }
 ],
 "metadata": {
  "kernelspec": {
   "display_name": "Python 2",
   "language": "python",
   "name": "python2"
  },
  "language_info": {
   "codemirror_mode": {
    "name": "ipython",
    "version": 2
   },
   "file_extension": ".py",
   "mimetype": "text/x-python",
   "name": "python",
   "nbconvert_exporter": "python",
   "pygments_lexer": "ipython2",
   "version": "2.7.13"
  },
  "widgets": {
   "state": {
    "1f14c6eebbdf47eab92dcce0d4b36115": {
     "views": [
      {
       "cell_index": 14
      }
     ]
    },
    "ff7e8fc975904db49e50091e1594222a": {
     "views": [
      {
       "cell_index": 14
      }
     ]
    }
   },
   "version": "1.2.0"
  }
 },
 "nbformat": 4,
 "nbformat_minor": 2
}
