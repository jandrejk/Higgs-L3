{
 "cells": [
  {
   "cell_type": "code",
   "execution_count": 20,
   "metadata": {
    "collapsed": false
   },
   "outputs": [],
   "source": [
    "import numpy as np\n",
    "import matplotlib.pyplot as plt\n",
    "import pandas as pd\n",
    "import os\n",
    "from scipy import special\n",
    "import ipywidgets as widgets\n",
    "from ipywidgets import interactive, interact, fixed, interact_manual\n",
    "from IPython.display import display, clear_output"
   ]
  },
  {
   "cell_type": "markdown",
   "metadata": {},
   "source": [
    "### Reading in the data files"
   ]
  },
  {
   "cell_type": "code",
   "execution_count": 169,
   "metadata": {
    "collapsed": false
   },
   "outputs": [],
   "source": [
    "data = pd.read_csv('data/higgs_data.csv')\n",
    "\n",
    "higgs_85 = pd.read_csv('data/higgs_higgs_85.csv')\n",
    "higgs_90 = pd.read_csv('data/higgs_higgs_90.csv')\n",
    "higgs_95 = pd.read_csv('data/higgs_higgs_95.csv')\n",
    "eeqq = pd.read_csv('data/higgs_eeqq.csv')\n",
    "qq = pd.read_csv('data/higgs_qq.csv')\n",
    "wen = pd.read_csv('data/higgs_wen.csv')\n",
    "ww = pd.read_csv('data/higgs_ww.csv')\n",
    "zee = pd.read_csv('data/higgs_zee.csv')\n",
    "zz = pd.read_csv('data/higgs_zz.csv')\n",
    "\n",
    "\n",
    "framesMcNoHiggs = [qq, ww, zz, zee, wen, eeqq]\n",
    "framesMcNoHiggsNames = ['qq', 'ww', 'zz', 'zee', 'wen', 'eeqq']\n",
    "framesListMc = framesMcNoHiggs + [higgs_85, higgs_90, higgs_95]\n",
    "framesListMcNames = framesMcNoHiggsNames + ['higgs_85', 'higgs_90', 'higgs_95']\n",
    "\n",
    "\n",
    "# mvisf values are to high for histograms- lower by 10e15\n",
    "for frame in framesListMc:\n",
    "    frame['mvisf']/= 10e15\n",
    "data['mvisf']/= 10e15"
   ]
  },
  {
   "cell_type": "markdown",
   "metadata": {},
   "source": [
    "### Associate weights with the MC generated data"
   ]
  },
  {
   "cell_type": "code",
   "execution_count": 170,
   "metadata": {
    "collapsed": false
   },
   "outputs": [],
   "source": [
    "crossSectionsMc = [102., 16.5, 0.975, 3.35, 2.9, 15600., 0.094, 0.0667, 0.0333]\n",
    "NumberEntriesMc = [len(frame['encm']) for frame in framesListMc]\n",
    "NumberMc = [200000., 294500, 196000, 29500, 81786, 5940000, 3972, 3973, 3971]\n",
    "Lum = 176.773\n",
    "\n",
    "weights = Lum*np.array(crossSectionsMc) / np.array(NumberMc) \n",
    "\n",
    "for i, frame in enumerate(framesListMc):\n",
    "    frame[\"weight\"] = weights[i]\n",
    "data[\"weight\"] = 1\n",
    "\n",
    "\n",
    "Ndata = len(data['encm'])"
   ]
  },
  {
   "cell_type": "code",
   "execution_count": 171,
   "metadata": {
    "collapsed": false
   },
   "outputs": [
    {
     "data": {
      "text/plain": [
       "659.45883336774511"
      ]
     },
     "execution_count": 171,
     "metadata": {},
     "output_type": "execute_result"
    }
   ],
   "source": [
    "sum(np.array(NumberEntriesMc[:6])*weights[:6])"
   ]
  },
  {
   "cell_type": "code",
   "execution_count": 172,
   "metadata": {
    "collapsed": false
   },
   "outputs": [
    {
     "data": {
      "text/plain": [
       "array([ 273.07716267,  261.38874283,   31.6321755 ,    4.65721951,\n",
       "         49.24208538,   39.46144747,   14.02710667,   10.08135129,\n",
       "          4.95708707])"
      ]
     },
     "execution_count": 172,
     "metadata": {},
     "output_type": "execute_result"
    }
   ],
   "source": [
    "np.array(NumberEntriesMc)*weights"
   ]
  },
  {
   "cell_type": "code",
   "execution_count": 173,
   "metadata": {
    "collapsed": false
   },
   "outputs": [
    {
     "data": {
      "text/plain": [
       "188.64189391575664"
      ]
     },
     "execution_count": 173,
     "metadata": {},
     "output_type": "execute_result"
    }
   ],
   "source": [
    "sum(data['encm'])/len(data['encm'])"
   ]
  },
  {
   "cell_type": "code",
   "execution_count": 174,
   "metadata": {
    "collapsed": false
   },
   "outputs": [
    {
     "data": {
      "text/plain": [
       "188.98910197226905"
      ]
     },
     "execution_count": 174,
     "metadata": {},
     "output_type": "execute_result"
    }
   ],
   "source": [
    "sum([sum(frame['encm']) for frame in framesListMc])/sum(NumberEntriesMc)"
   ]
  },
  {
   "cell_type": "markdown",
   "metadata": {},
   "source": [
    "### Widget that decides which higgs we want to take into account"
   ]
  },
  {
   "cell_type": "code",
   "execution_count": 188,
   "metadata": {
    "collapsed": false
   },
   "outputs": [],
   "source": [
    "l = len(framesMcNoHiggs)\n",
    "\n",
    "higgsDict = {\n",
    "    'No higgs': 0, #[[],[],[]],\n",
    "    '85 GeV': l, #[[higgs_85], ['higgs_85'], [weights[len(framesMcNoHiggs)-1]]],\n",
    "    '90 GeV': l+1, #[[higgs_90], ['higgs_90'], [weights[len(framesMcNoHiggs)]]],\n",
    "    '95 GeV': l+2, #[[higgs_95], ['higgs_95'], [weights[len(framesMcNoHiggs)+1]]]\n",
    "    }\n",
    "\n",
    "widHiggs = widgets.Dropdown(\n",
    "    options=higgsDict,\n",
    "    description='higgs mass:',\n",
    ")\n",
    "\n",
    "def createFrames(index):\n",
    "    global frames, names, NMc, signal\n",
    "    if index > 0:\n",
    "        signal = framesListMc[index]\n",
    "        frames = framesMcNoHiggs + [signal]\n",
    "        names = framesMcNoHiggsNames + [framesListMcNames[index]]\n",
    "    else:\n",
    "        frames = framesMcNoHiggs\n",
    "        names = framesMcNoHiggsNames\n",
    "    NMc = sum([len(frame['encm'])*frame['weight'][0] for frame in frames])\n",
    "    return None\n",
    "\n",
    "dataFrameObject = interactive(createFrames, index=widHiggs)"
   ]
  },
  {
   "cell_type": "markdown",
   "metadata": {},
   "source": [
    "### Build the histogram"
   ]
  },
  {
   "cell_type": "code",
   "execution_count": 178,
   "metadata": {
    "collapsed": false,
    "scrolled": false
   },
   "outputs": [],
   "source": [
    "def buildHist (var,Nbins, y_scale):\n",
    "    plt.figure(figsize=(10,8))\n",
    "    global bins\n",
    "    bins = plt.hist([frame[var] for frame in frames], log=y_scale, weights=[frame[\"weight\"] for frame in frames], bins=Nbins, stacked=True, alpha=0.5, label=names)[-2]        \n",
    "    \n",
    "    dataCounts, dataBins = np.histogram(data[var], bins)\n",
    "    #datayErr = np.sqrt(dataCounts) # would give Gaussian errors\n",
    "    \n",
    "    # following http://ms.mcmaster.ca/peter/s743/poissonalpha.html\n",
    "    # and https://newton.cx/~peter/2012/06/poisson-distribution-confidence-intervals/\n",
    "    lowerErr = dataCounts - np.array( scipy.special.gammaincinv(dataCounts, 0.5*(1-0.6827)) )\n",
    "    lowerErr = [0 if entry != entry else entry for entry in lowerErr]\n",
    "    upperErr = np.array( scipy.special.gammaincinv(dataCounts+1, 1 - 0.5*(1-0.6827)) ) - dataCounts\n",
    "    datayErr = [lowerErr, upperErr] # Poissonian errors\n",
    "    \n",
    "    plt.errorbar((dataBins[1:]+dataBins[:-1])/2., dataCounts, yerr =datayErr, label='data', ecolor='red',marker='s', linestyle='')\n",
    "    plt.legend()\n",
    "    plt.xlabel('%s' %var)\n",
    "    plt.ylabel('counts')\n",
    "    #plt.xlim(.4,1.) for btags\n",
    "    #plt.ylim(0,15)\n",
    "    plt.title('%i data points and %.1f Mc (weighted) points' %(Ndata,NMc))\n",
    "    plt.show()"
   ]
  },
  {
   "cell_type": "markdown",
   "metadata": {},
   "source": [
    "# Log-likelihood ratio, define signal and background"
   ]
  },
  {
   "cell_type": "code",
   "execution_count": 195,
   "metadata": {
    "collapsed": false
   },
   "outputs": [],
   "source": [
    "background = pd.concat(framesMcNoHiggs)\n",
    "\n",
    "def likelihoodRatio(s,b,n):    #(signal,background,data):\n",
    "    if len(s) != len(b) or len(s) != len(n):\n",
    "        print \"Signal, background and data must have the same bins!\"\n",
    "        return 0\n",
    "    res = 0\n",
    "    for i, si in enumerate(s):\n",
    "        if n[i] == 0: # 0*ln -> only si remains\n",
    "            res += si\n",
    "            #print \"a\", res\n",
    "        elif si == 0: # \n",
    "            pass\n",
    "            #print \"b\", res\n",
    "        elif b[i] == 0:\n",
    "            return -np.infty # ln(1+si/bi)= inf\n",
    "        else: # the normal case\n",
    "            res += si - n[i]*np.log(1+si/float(n[i]))\n",
    "            #print \"c\", res\n",
    "    return 2*res\n",
    "\n",
    "def outputLikelihood(Nbins, var):\n",
    "    print '-2 ln Q ='\n",
    "    if var == 'all variables':\n",
    "        for variable in background.columns:\n",
    "            b,bins = np.histogram(background[variable], bins=Nbins, weights=background['weight'])\n",
    "            s,_ = np.histogram(signal[variable], bins=bins, weights=signal['weight']) # signal defined as global variable in createFrames\n",
    "            n,_ = np.histogram(data[variable], bins=bins, weights=data['weight'])\n",
    "            print ' ', variable,':', likelihoodRatio(s,b,n)\n",
    "    else:\n",
    "            b,bins = np.histogram(background[var], bins=Nbins, weights=background['weight'])\n",
    "            s,_ = np.histogram(signal[var], bins=bins, weights=signal['weight']) # signal defined as global variable in createFrames\n",
    "            n,_ = np.histogram(data[var], bins=bins, weights=data['weight'])\n",
    "            print ' ', var,':', likelihoodRatio(s,b,n)\n"
   ]
  },
  {
   "cell_type": "markdown",
   "metadata": {},
   "source": [
    "# The histogram widget"
   ]
  },
  {
   "cell_type": "code",
   "execution_count": 208,
   "metadata": {
    "collapsed": false
   },
   "outputs": [
    {
     "data": {
      "image/png": "[encoded data removed]",
      "text/plain": [
       "<matplotlib.figure.Figure at 0x11096da0>"
      ]
     },
     "metadata": {},
     "output_type": "display_data"
    }
   ],
   "source": [
    "display(dataFrameObject)\n",
    "#interact_manual(buildHist,var=sorted(dict(zip(data.columns.values,data.columns.values))),Nbins=(10,50), \n",
    "interact_manual(buildHist,var=sorted(data.columns.values),Nbins=(10,50), \n",
    "                y_scale={'like always': False, 'logarithmic':True}, alpha=.2)"
   ]
  },
  {
   "cell_type": "markdown",
   "metadata": {},
   "source": [
    "#  The log-likelihood widget"
   ]
  },
  {
   "cell_type": "code",
   "execution_count": 210,
   "metadata": {
    "collapsed": false
   },
   "outputs": [
    {
     "name": "stdout",
     "output_type": "stream",
     "text": [
      "-2 ln Q =\n",
      "  irun : 0.064352283997\n",
      "  ievt : 0.0497589299558\n",
      "  ifi : 0.901288558852\n",
      "  idp1 : 9.91417414737\n",
      "  idp2 : 9.91417414737\n",
      "  encm : 6.34501091622\n",
      "  btag1 : 0.143043104969\n",
      "  btag2 : 0.117732845699\n",
      "  ucsdbt0 : 0.833497100087\n",
      "  mvis : 0.0613771827897\n",
      "  mvisf : 0.0381384649289\n",
      "  mvissc : 0.0563254544759\n",
      "  fmvis : 0.0885906277727\n",
      "  fmmis : 0.128919780907\n",
      "  fth1 : 0.0482159537691\n",
      "  mmis : 0.0645781371398\n",
      "  acthm : 0.048948921507\n",
      "  maxcthj : 0.04281946427\n",
      "  acop : 0.0977140512749\n",
      "  maxxov : 0.0546032970924\n",
      "  ghmass : 0.0381384649289\n",
      "  enj1 : 0.056406045965\n",
      "  thj1 : 0.042307998101\n",
      "  phj1 : 0.0400200884088\n",
      "  xmj1 : 0.0473913637499\n",
      "  enj2 : 0.0753788771843\n",
      "  thj2 : 0.0553996513478\n",
      "  phj2 : 0.0401752457855\n",
      "  xmj2 : 0.0420977132185\n",
      "  pho_num : 0.0446480524088\n",
      "  pho_ene : 0.0432663409049\n",
      "  pho_the : 0.0605881890952\n",
      "  pho_phi : 0.0419068072557\n",
      "  ele_num : 0.0383651104841\n",
      "  ele_ene : 0.0410238251665\n",
      "  ele_the : 0.124618140734\n",
      "  ele_phi : 0.0722514517717\n",
      "  muon_num : 0.0393110334602\n",
      "  muon_ene : 0.0466966472596\n",
      "  muon_the : 0.116454267636\n",
      "  muon_phi : 0.0870704045835\n",
      "  weight : 9.91417414737\n"
     ]
    }
   ],
   "source": [
    "display(dataFrameObject)\n",
    "interact_manual(outputLikelihood,var=['all variables']+sorted(data.columns.values),Nbins=(10,50))"
   ]
  },
  {
   "cell_type": "markdown",
   "metadata": {},
   "source": [
    "When -lnQ > 0, lnQ < 0 and thus Q < 1. This means that the background-only hypothesis is more likely than the signal hypothesis. The higher the value, the less likely the signal is to exist."
   ]
  },
  {
   "cell_type": "markdown",
   "metadata": {},
   "source": [
    "# Try stuff"
   ]
  },
  {
   "cell_type": "code",
   "execution_count": 61,
   "metadata": {
    "collapsed": false
   },
   "outputs": [
    {
     "name": "stdout",
     "output_type": "stream",
     "text": [
      "[  0.07147442   0.12625903   2.06933969   4.41044948   6.98325873\n",
      "   9.5720267   15.66401084  13.66254779  16.43996699  22.98817901\n",
      "  24.8417519   29.3467422   37.81712023  41.4077602   45.03764669\n",
      "  45.63780051  44.07823091  38.02114525  35.37522795  33.09353422\n",
      "  30.3074837   30.28630261  25.29766693  24.60628553  21.78345576\n",
      "  17.64014788  15.80755076  13.90838738   8.85635196   4.32072812] [  40.4692       43.73112667   46.99305333   50.25498      53.51690667\n",
      "   56.77883333   60.04076      63.30268667   66.56461333   69.82654\n",
      "   73.08846667   76.35039333   79.61232      82.87424667   86.13617333\n",
      "   89.3981       92.66002667   95.92195333   99.18388     102.44580667\n",
      "  105.70773333  108.96966     112.23158667  115.49351333  118.75544\n",
      "  122.01736667  125.27929333  128.54122     131.80314667  135.06507333\n",
      "  138.327     ] [  40.4692       43.73112667   46.99305333   50.25498      53.51690667\n",
      "   56.77883333   60.04076      63.30268667   66.56461333   69.82654\n",
      "   73.08846667   76.35039333   79.61232      82.87424667   86.13617333\n",
      "   89.3981       92.66002667   95.92195333   99.18388     102.44580667\n",
      "  105.70773333  108.96966     112.23158667  115.49351333  118.75544\n",
      "  122.01736667  125.27929333  128.54122     131.80314667  135.06507333\n",
      "  138.327     ]\n"
     ]
    }
   ],
   "source": [
    "background = pd.concat(framesMcNoHiggs)\n",
    "signalAndBackground = pd.concat(framesMcNoHiggs+[higgs_85])\n",
    "p_background = sum(background['weight']) / (sum(background['weight']) + sum(signal['weight']))\n",
    "p_signal = sum(signal['weight']) / (sum(background['weight']) + sum(signal['weight']))\n",
    "\n",
    "var = 'mvis'\n",
    "Nbins = 30\n",
    "\n",
    "counts_background, bins = np.histogram(background[var], bins=Nbins, weights=background['weight'])\n",
    "counts_signal, binss = np.histogram(signal[var], bins=bins, weights=signal['weight'])\n",
    "\n",
    "#p_background_COND_bin = counts\n",
    "print counts_background, bins, binss\n"
   ]
  },
  {
   "cell_type": "code",
   "execution_count": 71,
   "metadata": {
    "collapsed": false
   },
   "outputs": [
    {
     "data": {
      "image/png": "[encoded data removed]",
      "text/plain": [
       "<matplotlib.figure.Figure at 0x99af9b0>"
      ]
     },
     "metadata": {},
     "output_type": "display_data"
    },
    {
     "name": "stdout",
     "output_type": "stream",
     "text": [
      "116.399\n"
     ]
    }
   ],
   "source": [
    "frame = higgs_85\n",
    "normed = False\n",
    "var='btag1'\n",
    "#plt.plot(frame['btag1'],frame['btag2'], linestyle='', marker='.', markersize='1')\n",
    "#plt.plot(background['btag1'],background['btag2'], linestyle='', marker='.', markersize='1', color='r')\n",
    "c, bins,_ = plt.hist(background[var], bins=30, normed=normed, alpha=.5, color='y')\n",
    "plt.hist(frame[var],bins=bins, normed=normed, alpha=.5, color='b')\n",
    "plt.show()\n",
    "\n",
    "print max(frame['mvis'])\n"
   ]
  }
 ],
 "metadata": {
  "kernelspec": {
   "display_name": "Python 2",
   "language": "python",
   "name": "python2"
  },
  "language_info": {
   "codemirror_mode": {
    "name": "ipython",
    "version": 2
   },
   "file_extension": ".py",
   "mimetype": "text/x-python",
   "name": "python",
   "nbconvert_exporter": "python",
   "pygments_lexer": "ipython2",
   "version": "2.7.13"
  },
  "widgets": {
   "state": {
    "000cddb3438f43af9b442abac47f3b89": {
     "views": [
      {
       "cell_index": 14
      }
     ]
    },
    "0b57f88f3d9f4fc78ba2fad93ddf3e18": {
     "views": [
      {
       "cell_index": 14
      }
     ]
    },
    "0e6f4880ca98415cbb6970fdbcb5cbf6": {
     "views": [
      {
       "cell_index": 17
      }
     ]
    },
    "13be77d442c94874a8e33fd70dd8385d": {
     "views": [
      {
       "cell_index": 18
      }
     ]
    },
    "2434d77c97c241efa1cdd32d2aec72f3": {
     "views": [
      {
       "cell_index": 17
      }
     ]
    },
    "37dc9438c9974b45863a67d339b9575a": {
     "views": [
      {
       "cell_index": 14
      }
     ]
    },
    "399e50b25af44f958e2f56c0d5bb4c8f": {
     "views": [
      {
       "cell_index": 17
      }
     ]
    },
    "3d626164e00342c998ee9f2c21fd6aed": {
     "views": [
      {
       "cell_index": 20
      }
     ]
    },
    "3f1a3dd345844aa381f91354034f8c1a": {
     "views": [
      {
       "cell_index": 14
      }
     ]
    },
    "435b53f4b6f94a629ab7ca3500cc45ec": {
     "views": [
      {
       "cell_index": 14
      }
     ]
    },
    "517610ed758f42fa8a20e8c197d7f8ef": {
     "views": [
      {
       "cell_index": 14
      }
     ]
    },
    "5eca8fef9abc4a108d1abd766bf77718": {
     "views": [
      {
       "cell_index": 14
      }
     ]
    },
    "6813bb711c4c4d01b0197a54c8a7b0ad": {
     "views": [
      {
       "cell_index": 17
      }
     ]
    },
    "6e7c5362983445faa60ac7422a1e5a21": {
     "views": [
      {
       "cell_index": 15
      }
     ]
    },
    "71403ca3c85544d1a39e0198e3507c10": {
     "views": [
      {
       "cell_index": 14
      }
     ]
    },
    "87bede866e7345939b90fa8cc47d2e70": {
     "views": [
      {
       "cell_index": 15
      }
     ]
    },
    "9415d2c3f98041fcb3ad4a1b776eccf3": {
     "views": [
      {
       "cell_index": 18
      },
      {
       "cell_index": 20
      }
     ]
    },
    "9b1ca4b4254846a290f9f2967d7c6d03": {
     "views": [
      {
       "cell_index": 14
      }
     ]
    },
    "a042cc8c3ba44a369692ddbd24cc6d7a": {
     "views": [
      {
       "cell_index": 15
      }
     ]
    },
    "a16038371dc94098b278a33cb64f4892": {
     "views": [
      {
       "cell_index": 14
      }
     ]
    },
    "a265c74270a344dba9f57c84ff76631b": {
     "views": [
      {
       "cell_index": 15
      }
     ]
    },
    "a3a53068d0254e79a6286ad4817a6294": {
     "views": [
      {
       "cell_index": 15
      }
     ]
    },
    "af927243d7eb4c1d9cada5b1ac0c107b": {
     "views": [
      {
       "cell_index": 20
      }
     ]
    },
    "bd7a820b401d4389a00e165b814c0660": {
     "views": [
      {
       "cell_index": 17
      }
     ]
    },
    "c2aaec03789547d4a2bae91f7a204381": {
     "views": [
      {
       "cell_index": 17
      }
     ]
    },
    "d0e7a1dea8604999a2353d0d8bca6f98": {
     "views": [
      {
       "cell_index": 17
      }
     ]
    },
    "e159faae7b6a4ba3ae4778b0a7b59e62": {
     "views": [
      {
       "cell_index": 15
      }
     ]
    },
    "ed6d8ea6616e403ca626c630157b1080": {
     "views": [
      {
       "cell_index": 15
      }
     ]
    },
    "efd2518bfbb44ca88753c5c17ddcfa13": {
     "views": [
      {
       "cell_index": 14
      }
     ]
    }
   },
   "version": "1.2.0"
  }
 },
 "nbformat": 4,
 "nbformat_minor": 2
}
